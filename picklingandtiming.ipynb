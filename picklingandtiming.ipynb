{
 "cells": [
  {
   "cell_type": "code",
   "execution_count": 13,
   "metadata": {},
   "outputs": [],
   "source": [
    "import warnings; warnings.simplefilter('ignore')"
   ]
  },
  {
   "cell_type": "code",
   "execution_count": 14,
   "metadata": {},
   "outputs": [],
   "source": [
    "import iris\n",
    "import os\n",
    "import glob\n",
    "import matplotlib\n",
    "matplotlib.use('Agg')\n",
    "import matplotlib as mpl\n",
    "import matplotlib.pyplot as plt\n",
    "import iris.quickplot as qplt\n",
    "import iris.plot as iplt\n",
    "import iris.coords\n",
    "import numpy as np\n",
    "import numpy.ma as ma\n",
    "import pickle\n",
    "from matplotlib.colors import BoundaryNorm\n",
    "iris.FUTURE.netcdf_no_unlimited=True\n",
    "iris.FUTURE.netcdf_promote=True\n",
    "from iris.experimental.equalise_cubes import equalise_attributes\n",
    "%matplotlib inline"
   ]
  },
  {
   "cell_type": "code",
   "execution_count": 24,
   "metadata": {},
   "outputs": [
    {
     "name": "stdout",
     "output_type": "stream",
     "text": [
      "CPU times: user 3.27 ms, sys: 7.57 ms, total: 10.8 ms\n",
      "Wall time: 17.4 ms\n"
     ]
    }
   ],
   "source": [
    "%%time\n",
    "\n",
    "wildcard_ctrl = '/nesi/nobackup/niwa00013/varmavr/cylc-run/u-ba731/share/data/History_Data/*pk*'\n",
    "file_ctrl = glob.glob(wildcard_ctrl)\n",
    "stash_list =['m01s02i201','m01s01i201']\n",
    "ctn = [iris.AttributeConstraint(STASH=stash) for stash in stash_list]"
   ]
  },
  {
   "cell_type": "code",
   "execution_count": 25,
   "metadata": {},
   "outputs": [
    {
     "name": "stdout",
     "output_type": "stream",
     "text": [
      "CPU times: user 42min 35s, sys: 36 s, total: 43min 11s\n",
      "Wall time: 44min\n"
     ]
    }
   ],
   "source": [
    "%%time\n",
    "\n",
    "LW_SW_surf_ctrl = iris.load(file_ctrl,ctn)\n",
    "equalise_attributes(LW_SW_surf_ctrl)\n",
    "LW_SW_surf_ctrl=LW_SW_surf_ctrl.concatenate()\n",
    "pickle.dump(LW_SW_surf_ctrl, open( \"/home/williamsjh/scripts/LW_SW_surf_ctrl.p\", \"wb\" ) )"
   ]
  },
  {
   "cell_type": "code",
   "execution_count": 26,
   "metadata": {},
   "outputs": [
    {
     "name": "stdout",
     "output_type": "stream",
     "text": [
      "CPU times: user 7.43 s, sys: 102 ms, total: 7.53 s\n",
      "Wall time: 7.68 s\n"
     ]
    }
   ],
   "source": [
    "%%time\n",
    "\n",
    "fileObject_ctrl_a = open('/home/williamsjh/scripts/LW_SW_surf_ctrl.p','r')\n",
    "fileObject_ctrl = pickle.load(fileObject_ctrl_a)\n",
    "\n",
    "LW_plus_SW_surf = fileObject_ctrl[0] + fileObject_ctrl[1]"
   ]
  },
  {
   "cell_type": "code",
   "execution_count": 27,
   "metadata": {},
   "outputs": [
    {
     "name": "stdout",
     "output_type": "stream",
     "text": [
      "CPU times: user 1min 59s, sys: 35.9 s, total: 2min 35s\n",
      "Wall time: 3min 9s\n"
     ]
    }
   ],
   "source": [
    "%%time\n",
    "\n",
    "# Averaging\n",
    "\n",
    "LW_plus_SW_surf_tim = LW_plus_SW_surf.collapsed('time',iris.analysis.MEAN)\n",
    "LW_plus_SW_surf_zon = LW_plus_SW_surf_tim.collapsed('longitude',iris.analysis.MEAN)"
   ]
  },
  {
   "cell_type": "code",
   "execution_count": 28,
   "metadata": {},
   "outputs": [
    {
     "name": "stdout",
     "output_type": "stream",
     "text": [
      "CPU times: user 16.8 ms, sys: 1.05 ms, total: 17.8 ms\n",
      "Wall time: 16.3 ms\n"
     ]
    },
    {
     "data": {
      "text/plain": [
       "[<matplotlib.lines.Line2D at 0x2aaaf600cf90>]"
      ]
     },
     "execution_count": 28,
     "metadata": {},
     "output_type": "execute_result"
    },
    {
     "data": {
      "image/png": "[encoded data removed]",
      "text/plain": [
       "<Figure size 432x288 with 1 Axes>"
      ]
     },
     "metadata": {
      "needs_background": "light"
     },
     "output_type": "display_data"
    }
   ],
   "source": [
    "%%time\n",
    "\n",
    "qplt.plot(LW_plus_SW_surf_zon,label='GA8_CTRL',color='red', lw=2.0)"
   ]
  },
  {
   "cell_type": "code",
   "execution_count": null,
   "metadata": {},
   "outputs": [],
   "source": []
  }
 ],
 "metadata": {
  "kernelspec": {
   "display_name": "Python 2",
   "language": "python",
   "name": "python2"
  },
  "language_info": {
   "codemirror_mode": {
    "name": "ipython",
    "version": 2
   },
   "file_extension": ".py",
   "mimetype": "text/x-python",
   "name": "python",
   "nbconvert_exporter": "python",
   "pygments_lexer": "ipython2",
   "version": "2.7.15"
  }
 },
 "nbformat": 4,
 "nbformat_minor": 2
}

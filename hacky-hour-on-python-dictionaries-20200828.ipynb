{
 "cells": [
  {
   "cell_type": "code",
   "execution_count": 20,
   "metadata": {},
   "outputs": [],
   "source": [
    "import glob\n",
    "import copy\n",
    "import numpy as np\n",
    "\n",
    "suites = ['bd483', 'bf656']\n",
    "\n",
    "means = { }\n",
    "\n",
    "for suite in (suites):\n",
    "        \n",
    "        for file in range(10):\n",
    "\n",
    "            means[suite] = np.random.rand(10)\n"
   ]
  },
  {
   "cell_type": "code",
   "execution_count": 21,
   "metadata": {},
   "outputs": [
    {
     "data": {
      "text/plain": [
       "{'bd483': array([0.89965829, 0.53010467, 0.10614504, 0.74678598, 0.34937135,\n",
       "        0.12680067, 0.98299998, 0.68563611, 0.52016355, 0.4123262 ]),\n",
       " 'bf656': array([0.60771217, 0.55637462, 0.70284947, 0.62769738, 0.9631811 ,\n",
       "        0.96692518, 0.76588803, 0.74363642, 0.68816828, 0.42273956])}"
      ]
     },
     "execution_count": 21,
     "metadata": {},
     "output_type": "execute_result"
    }
   ],
   "source": [
    "means"
   ]
  },
  {
   "cell_type": "code",
   "execution_count": 22,
   "metadata": {},
   "outputs": [
    {
     "data": {
      "text/plain": [
       "array([0.60771217, 0.55637462, 0.70284947, 0.62769738, 0.9631811 ,\n",
       "       0.96692518, 0.76588803, 0.74363642, 0.68816828, 0.42273956])"
      ]
     },
     "execution_count": 22,
     "metadata": {},
     "output_type": "execute_result"
    }
   ],
   "source": [
    "means['bf656']"
   ]
  },
  {
   "cell_type": "code",
   "execution_count": 23,
   "metadata": {},
   "outputs": [
    {
     "data": {
      "text/plain": [
       "0.7045172205875037"
      ]
     },
     "execution_count": 23,
     "metadata": {},
     "output_type": "execute_result"
    }
   ],
   "source": [
    "np.mean(means['bf656'])"
   ]
  },
  {
   "cell_type": "code",
   "execution_count": null,
   "metadata": {},
   "outputs": [],
   "source": []
  }
 ],
 "metadata": {
  "kernelspec": {
   "display_name": "Python 3",
   "language": "python",
   "name": "python3"
  },
  "language_info": {
   "codemirror_mode": {
    "name": "ipython",
    "version": 3
   },
   "file_extension": ".py",
   "mimetype": "text/x-python",
   "name": "python",
   "nbconvert_exporter": "python",
   "pygments_lexer": "ipython3",
   "version": "3.7.7"
  }
 },
 "nbformat": 4,
 "nbformat_minor": 2
}

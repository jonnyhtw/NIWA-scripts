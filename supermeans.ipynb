{
 "cells": [
  {
   "cell_type": "markdown",
   "metadata": {
    "deletable": true,
    "editable": true
   },
   "source": [
    "# generate 'supermeans' for validation notes"
   ]
  },
  {
   "cell_type": "markdown",
   "metadata": {
    "deletable": true,
    "editable": true
   },
   "source": [
    "Firstly, clear all variables in the local memory."
   ]
  },
  {
   "cell_type": "code",
   "execution_count": 8,
   "metadata": {
    "collapsed": true,
    "deletable": true,
    "editable": true
   },
   "outputs": [],
   "source": [
    "for name in dir():\n",
    "    if not name.startswith('_'):\n",
    "        del globals()[name]"
   ]
  },
  {
   "cell_type": "markdown",
   "metadata": {
    "deletable": true,
    "editable": true
   },
   "source": [
    "Now import modules etc."
   ]
  },
  {
   "cell_type": "code",
   "execution_count": 9,
   "metadata": {
    "collapsed": false,
    "deletable": true,
    "editable": true
   },
   "outputs": [],
   "source": [
    "import cartopy.crs as ccrs\n",
    "import matplotlib\n",
    "import matplotlib.pyplot as plt\n",
    "import iris\n",
    "import iris.plot as iplt\n",
    "import iris.quickplot as qplt\n",
    "import numpy as np\n",
    "import datetime\n",
    "from iris.time import PartialDateTime\n",
    "import iris.analysis\n",
    "import netCDF4\n",
    "from netCDF4 import Dataset\n",
    "import os\n",
    "from pylab import *\n",
    "import cartopy.crs as ccrs\n",
    "import iris.analysis.cartography\n",
    "import re\n",
    "from os import listdir"
   ]
  },
  {
   "cell_type": "markdown",
   "metadata": {
    "deletable": true,
    "editable": true
   },
   "source": [
    "The following renders graphics inside the Jupyter document"
   ]
  },
  {
   "cell_type": "code",
   "execution_count": 10,
   "metadata": {
    "collapsed": true,
    "deletable": true,
    "editable": true
   },
   "outputs": [],
   "source": [
    "#%matplotlib inline"
   ]
  },
  {
   "cell_type": "markdown",
   "metadata": {
    "deletable": true,
    "editable": true
   },
   "source": [
    "Increase font size for graphics"
   ]
  },
  {
   "cell_type": "code",
   "execution_count": 11,
   "metadata": {
    "collapsed": false,
    "deletable": true,
    "editable": true
   },
   "outputs": [],
   "source": [
    "#matplotlib.rcParams['font.size'] = 24"
   ]
  },
  {
   "cell_type": "markdown",
   "metadata": {
    "deletable": true,
    "editable": true
   },
   "source": [
    "load data "
   ]
  },
  {
   "cell_type": "code",
   "execution_count": 12,
   "metadata": {
    "collapsed": false,
    "deletable": true,
    "editable": true
   },
   "outputs": [
    {
     "data": {
      "text/plain": [
       "(1989, 1990, 1991, 1992, 1993, 1994, 1995, 1996, 1997, 1998)"
      ]
     },
     "execution_count": 12,
     "metadata": {},
     "output_type": "execute_result"
    }
   ],
   "source": [
    "base_dir='/hpcf/data/williamsjh/cylc-run-archive/'\n",
    "base_dir='/home/williamsjh/cylc-run/'\n",
    "runid='u-ap860'\n",
    "\n",
    "full_dir=base_dir+runid+'/share/data/History_Data-Cray/'\n",
    "\n",
    "firstyear=1989\n",
    "\n",
    "years=tuple(range(firstyear,firstyear+10))\n",
    "\n",
    "type(years)\n",
    "\n",
    "years\n",
    "\n",
    "\n",
    "#fnames = full_dir+'*'+str(years)+'*'+period+'*'\n"
   ]
  },
  {
   "cell_type": "code",
   "execution_count": 13,
   "metadata": {
    "collapsed": false,
    "deletable": true,
    "editable": true
   },
   "outputs": [],
   "source": [
    "len(years)\n",
    "\n",
    "if len(years) == 10:\n",
    "    supermeanlabel = 'a'"
   ]
  },
  {
   "cell_type": "code",
   "execution_count": 14,
   "metadata": {
    "collapsed": false,
    "deletable": true,
    "editable": true
   },
   "outputs": [
    {
     "name": "stdout",
     "output_type": "stream",
     "text": [
      "ann\n",
      "hello\n",
      "['/home/williamsjh/cylc-run/u-ap860/share/data/History_Data-Cray/*py*1989*', '/home/williamsjh/cylc-run/u-ap860/share/data/History_Data-Cray/*py*1990*', '/home/williamsjh/cylc-run/u-ap860/share/data/History_Data-Cray/*py*1991*', '/home/williamsjh/cylc-run/u-ap860/share/data/History_Data-Cray/*py*1992*', '/home/williamsjh/cylc-run/u-ap860/share/data/History_Data-Cray/*py*1993*', '/home/williamsjh/cylc-run/u-ap860/share/data/History_Data-Cray/*py*1994*', '/home/williamsjh/cylc-run/u-ap860/share/data/History_Data-Cray/*py*1995*', '/home/williamsjh/cylc-run/u-ap860/share/data/History_Data-Cray/*py*1996*', '/home/williamsjh/cylc-run/u-ap860/share/data/History_Data-Cray/*py*1997*', '/home/williamsjh/cylc-run/u-ap860/share/data/History_Data-Cray/*py*1998*']\n",
      "djf\n",
      "['/home/williamsjh/cylc-run/u-ap860/share/data/History_Data-Cray/*ps*1989*djf', '/home/williamsjh/cylc-run/u-ap860/share/data/History_Data-Cray/*ps*1990*djf', '/home/williamsjh/cylc-run/u-ap860/share/data/History_Data-Cray/*ps*1991*djf', '/home/williamsjh/cylc-run/u-ap860/share/data/History_Data-Cray/*ps*1992*djf', '/home/williamsjh/cylc-run/u-ap860/share/data/History_Data-Cray/*ps*1993*djf', '/home/williamsjh/cylc-run/u-ap860/share/data/History_Data-Cray/*ps*1994*djf', '/home/williamsjh/cylc-run/u-ap860/share/data/History_Data-Cray/*ps*1995*djf', '/home/williamsjh/cylc-run/u-ap860/share/data/History_Data-Cray/*ps*1996*djf', '/home/williamsjh/cylc-run/u-ap860/share/data/History_Data-Cray/*ps*1997*djf', '/home/williamsjh/cylc-run/u-ap860/share/data/History_Data-Cray/*ps*1998*djf']\n",
      "mam\n",
      "['/home/williamsjh/cylc-run/u-ap860/share/data/History_Data-Cray/*ps*1989*mam', '/home/williamsjh/cylc-run/u-ap860/share/data/History_Data-Cray/*ps*1990*mam', '/home/williamsjh/cylc-run/u-ap860/share/data/History_Data-Cray/*ps*1991*mam', '/home/williamsjh/cylc-run/u-ap860/share/data/History_Data-Cray/*ps*1992*mam', '/home/williamsjh/cylc-run/u-ap860/share/data/History_Data-Cray/*ps*1993*mam', '/home/williamsjh/cylc-run/u-ap860/share/data/History_Data-Cray/*ps*1994*mam', '/home/williamsjh/cylc-run/u-ap860/share/data/History_Data-Cray/*ps*1995*mam', '/home/williamsjh/cylc-run/u-ap860/share/data/History_Data-Cray/*ps*1996*mam', '/home/williamsjh/cylc-run/u-ap860/share/data/History_Data-Cray/*ps*1997*mam', '/home/williamsjh/cylc-run/u-ap860/share/data/History_Data-Cray/*ps*1998*mam']\n",
      "jja\n",
      "['/home/williamsjh/cylc-run/u-ap860/share/data/History_Data-Cray/*ps*1989*jja', '/home/williamsjh/cylc-run/u-ap860/share/data/History_Data-Cray/*ps*1990*jja', '/home/williamsjh/cylc-run/u-ap860/share/data/History_Data-Cray/*ps*1991*jja', '/home/williamsjh/cylc-run/u-ap860/share/data/History_Data-Cray/*ps*1992*jja', '/home/williamsjh/cylc-run/u-ap860/share/data/History_Data-Cray/*ps*1993*jja', '/home/williamsjh/cylc-run/u-ap860/share/data/History_Data-Cray/*ps*1994*jja', '/home/williamsjh/cylc-run/u-ap860/share/data/History_Data-Cray/*ps*1995*jja', '/home/williamsjh/cylc-run/u-ap860/share/data/History_Data-Cray/*ps*1996*jja', '/home/williamsjh/cylc-run/u-ap860/share/data/History_Data-Cray/*ps*1997*jja', '/home/williamsjh/cylc-run/u-ap860/share/data/History_Data-Cray/*ps*1998*jja']\n",
      "son\n",
      "['/home/williamsjh/cylc-run/u-ap860/share/data/History_Data-Cray/*ps*1989*son', '/home/williamsjh/cylc-run/u-ap860/share/data/History_Data-Cray/*ps*1990*son', '/home/williamsjh/cylc-run/u-ap860/share/data/History_Data-Cray/*ps*1991*son', '/home/williamsjh/cylc-run/u-ap860/share/data/History_Data-Cray/*ps*1992*son', '/home/williamsjh/cylc-run/u-ap860/share/data/History_Data-Cray/*ps*1993*son', '/home/williamsjh/cylc-run/u-ap860/share/data/History_Data-Cray/*ps*1994*son', '/home/williamsjh/cylc-run/u-ap860/share/data/History_Data-Cray/*ps*1995*son', '/home/williamsjh/cylc-run/u-ap860/share/data/History_Data-Cray/*ps*1996*son', '/home/williamsjh/cylc-run/u-ap860/share/data/History_Data-Cray/*ps*1997*son', '/home/williamsjh/cylc-run/u-ap860/share/data/History_Data-Cray/*ps*1998*son']\n"
     ]
    }
   ],
   "source": [
    "for period in ['ann','djf','mam','jja','son']:\n",
    "    \n",
    "    print period\n",
    "    sys.stdout.flush()\n",
    "    \n",
    "    if period == 'ann':\n",
    "        print 'hello'\n",
    "        sys.stdout.flush()\n",
    "        fnames = [full_dir+'*py*{}*'.format(year) for year in years]\n",
    "        print fnames\n",
    "        sys.stdout.flush()\n",
    "    else:\n",
    "        fnames = [full_dir+'*ps*{}*'.format(year)+period for year in years]\n",
    "        print fnames\n",
    "        sys.stdout.flush()\n",
    "\n",
    "    native = iris.load(fnames)\n",
    "    nativemean = native \n",
    "    \n",
    "    for i in range(len(native)):\n",
    "        nativemean[i] = native[i].collapsed('time',iris.analysis.MEAN)\n",
    "    \n",
    "    os.chdir(full_dir)\n",
    "\n",
    "    if not os.path.exists(full_dir+'supermeans'):\n",
    "        os.makedirs(full_dir+'supermeans')\n",
    "\n",
    "    iris.save(nativemean,full_dir+'supermeans'+'/'+runid+'a.m'+supermeanlabel+str(years[-1])+period+'.pp')\n",
    "    \n",
    "\n",
    "\n"
   ]
  },
  {
   "cell_type": "code",
   "execution_count": null,
   "metadata": {
    "collapsed": true,
    "deletable": true,
    "editable": true
   },
   "outputs": [],
   "source": []
  },
  {
   "cell_type": "code",
   "execution_count": null,
   "metadata": {
    "collapsed": true,
    "deletable": true,
    "editable": true
   },
   "outputs": [],
   "source": []
  }
 ],
 "metadata": {
  "kernelspec": {
   "display_name": "Python 2",
   "language": "python",
   "name": "python2"
  },
  "language_info": {
   "codemirror_mode": {
    "name": "ipython",
    "version": 2
   },
   "file_extension": ".py",
   "mimetype": "text/x-python",
   "name": "python",
   "nbconvert_exporter": "python",
   "pygments_lexer": "ipython2",
   "version": "2.7.12"
  },
  "widgets": {
   "state": {},
   "version": "1.1.2"
  }
 },
 "nbformat": 4,
 "nbformat_minor": 0
}

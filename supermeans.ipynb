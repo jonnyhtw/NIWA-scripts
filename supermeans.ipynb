{
 "cells": [
  {
   "cell_type": "markdown",
   "metadata": {},
   "source": [
    "# generate 'supermeans' for validation notes"
   ]
  },
  {
   "cell_type": "markdown",
   "metadata": {},
   "source": [
    "Firstly, clear all variables in the local memory."
   ]
  },
  {
   "cell_type": "code",
   "execution_count": 1,
   "metadata": {},
   "outputs": [],
   "source": [
    "for name in dir():\n",
    "    if not name.startswith('_'):\n",
    "        del globals()[name]"
   ]
  },
  {
   "cell_type": "markdown",
   "metadata": {},
   "source": [
    "Now import modules etc."
   ]
  },
  {
   "cell_type": "code",
   "execution_count": 2,
   "metadata": {},
   "outputs": [],
   "source": [
    "import cartopy.crs as ccrs\n",
    "import matplotlib\n",
    "import matplotlib.pyplot as plt\n",
    "import iris\n",
    "import iris.plot as iplt\n",
    "import iris.quickplot as qplt\n",
    "import numpy as np\n",
    "import datetime\n",
    "from iris.time import PartialDateTime\n",
    "import copy\n",
    "import pickle\n",
    "import iris.analysis\n",
    "import netCDF4\n",
    "from netCDF4 import Dataset\n",
    "from braceexpand import braceexpand\n",
    "import os\n",
    "from pylab import *\n",
    "import cartopy.crs as ccrs\n",
    "import iris.analysis.cartography\n",
    "import re\n",
    "from os import listdir"
   ]
  },
  {
   "cell_type": "markdown",
   "metadata": {},
   "source": [
    "# creating seasonal and annual means"
   ]
  },
  {
   "cell_type": "code",
   "execution_count": 4,
   "metadata": {},
   "outputs": [
    {
     "name": "stdout",
     "output_type": "stream",
     "text": [
      "(1961, 1962, 1963, 1964, 1965, 1966, 1967, 1968, 1969, 1970, 1971, 1972, 1973, 1974, 1975, 1976, 1977, 1978, 1979, 1980)\n",
      "/home/williamsjh/cylc-run/u-bc048/share/data/History_Data//climate-meaning\n"
     ]
    }
   ],
   "source": [
    "in_dir_base='/home/williamsjh/cylc-run/'\n",
    "runid='bc048'\n",
    "\n",
    "whoami='williamsjh'\n",
    "\n",
    "project='niwa00013'\n",
    "\n",
    "in_dir=in_dir_base+'u-'+runid+'/share/data/History_Data/'\n",
    "\n",
    "out_dir=in_dir+'/climate-meaning'\n",
    "\n",
    "if not os.path.exists(out_dir):\n",
    "    os.makedirs(out_dir)\n",
    "\n",
    "firstyear=1961\n",
    "\n",
    "nyears = 20\n",
    "\n",
    "years=tuple(range(firstyear,firstyear+nyears))\n",
    "\n",
    "type(years)\n",
    "\n",
    "#print the years\n",
    "print years\n",
    "\n",
    "print out_dir\n"
   ]
  },
  {
   "cell_type": "code",
   "execution_count": 56,
   "metadata": {},
   "outputs": [
    {
     "name": "stdout",
     "output_type": "stream",
     "text": [
      "djf\n"
     ]
    },
    {
     "ename": "KeyboardInterrupt",
     "evalue": "",
     "output_type": "error",
     "traceback": [
      "\u001b[0;31m---------------------------------------------------------------------------\u001b[0m",
      "\u001b[0;31mKeyboardInterrupt\u001b[0m                         Traceback (most recent call last)",
      "\u001b[0;32m<ipython-input-56-e3d2aaedea79>\u001b[0m in \u001b[0;36m<module>\u001b[0;34m()\u001b[0m\n\u001b[1;32m     10\u001b[0m \u001b[0mfiles\u001b[0m \u001b[0;34m=\u001b[0m \u001b[0mlist\u001b[0m\u001b[0;34m(\u001b[0m\u001b[0mbraceexpand\u001b[0m\u001b[0;34m(\u001b[0m\u001b[0mout_dir\u001b[0m\u001b[0;34m+\u001b[0m\u001b[0;34m'/../*pm*{'\u001b[0m\u001b[0;34m+\u001b[0m\u001b[0mstr\u001b[0m\u001b[0;34m(\u001b[0m\u001b[0myear\u001b[0m \u001b[0;34m-\u001b[0m \u001b[0;36m1\u001b[0m\u001b[0;34m)\u001b[0m\u001b[0;34m+\u001b[0m\u001b[0;34m'dec,'\u001b[0m\u001b[0;34m+\u001b[0m\u001b[0mstr\u001b[0m\u001b[0;34m(\u001b[0m\u001b[0myear\u001b[0m\u001b[0;34m)\u001b[0m\u001b[0;34m+\u001b[0m\u001b[0;34m'{jan,feb}}.pp'\u001b[0m\u001b[0;34m)\u001b[0m\u001b[0;34m)\u001b[0m\u001b[0;34m\u001b[0m\u001b[0m\n\u001b[1;32m     11\u001b[0m \u001b[0;34m\u001b[0m\u001b[0m\n\u001b[0;32m---> 12\u001b[0;31m \u001b[0mvars\u001b[0m \u001b[0;34m=\u001b[0m \u001b[0miris\u001b[0m\u001b[0;34m.\u001b[0m\u001b[0mload\u001b[0m\u001b[0;34m(\u001b[0m\u001b[0mfiles\u001b[0m\u001b[0;34m)\u001b[0m\u001b[0;34m\u001b[0m\u001b[0m\n\u001b[0m\u001b[1;32m     13\u001b[0m \u001b[0;34m\u001b[0m\u001b[0m\n\u001b[1;32m     14\u001b[0m \u001b[0mfoo\u001b[0m\u001b[0;34m=\u001b[0m\u001b[0mcopy\u001b[0m\u001b[0;34m.\u001b[0m\u001b[0mcopy\u001b[0m\u001b[0;34m(\u001b[0m\u001b[0mvars\u001b[0m\u001b[0;34m)\u001b[0m\u001b[0;34m\u001b[0m\u001b[0m\n",
      "\u001b[0;32m/nesi/nobackup/niwa00013/williamsjh/miniconda2/envs/master/lib/python2.7/site-packages/iris/__init__.pyc\u001b[0m in \u001b[0;36mload\u001b[0;34m(uris, constraints, callback)\u001b[0m\n\u001b[1;32m    341\u001b[0m \u001b[0;34m\u001b[0m\u001b[0m\n\u001b[1;32m    342\u001b[0m     \"\"\"\n\u001b[0;32m--> 343\u001b[0;31m     \u001b[0;32mreturn\u001b[0m \u001b[0m_load_collection\u001b[0m\u001b[0;34m(\u001b[0m\u001b[0muris\u001b[0m\u001b[0;34m,\u001b[0m \u001b[0mconstraints\u001b[0m\u001b[0;34m,\u001b[0m \u001b[0mcallback\u001b[0m\u001b[0;34m)\u001b[0m\u001b[0;34m.\u001b[0m\u001b[0mmerged\u001b[0m\u001b[0;34m(\u001b[0m\u001b[0;34m)\u001b[0m\u001b[0;34m.\u001b[0m\u001b[0mcubes\u001b[0m\u001b[0;34m(\u001b[0m\u001b[0;34m)\u001b[0m\u001b[0;34m\u001b[0m\u001b[0m\n\u001b[0m\u001b[1;32m    344\u001b[0m \u001b[0;34m\u001b[0m\u001b[0m\n\u001b[1;32m    345\u001b[0m \u001b[0;34m\u001b[0m\u001b[0m\n",
      "\u001b[0;32m/nesi/nobackup/niwa00013/williamsjh/miniconda2/envs/master/lib/python2.7/site-packages/iris/cube.pyc\u001b[0m in \u001b[0;36mmerged\u001b[0;34m(self, unique)\u001b[0m\n\u001b[1;32m    183\u001b[0m         \"\"\"\n\u001b[1;32m    184\u001b[0m         return _CubeFilterCollection([pair.merged(unique) for pair in\n\u001b[0;32m--> 185\u001b[0;31m                                       self.pairs])\n\u001b[0m\u001b[1;32m    186\u001b[0m \u001b[0;34m\u001b[0m\u001b[0m\n\u001b[1;32m    187\u001b[0m \u001b[0;34m\u001b[0m\u001b[0m\n",
      "\u001b[0;32m/nesi/nobackup/niwa00013/williamsjh/miniconda2/envs/master/lib/python2.7/site-packages/iris/cube.pyc\u001b[0m in \u001b[0;36mmerged\u001b[0;34m(self, unique)\u001b[0m\n\u001b[1;32m    125\u001b[0m \u001b[0;34m\u001b[0m\u001b[0m\n\u001b[1;32m    126\u001b[0m         \"\"\"\n\u001b[0;32m--> 127\u001b[0;31m         \u001b[0;32mreturn\u001b[0m \u001b[0m_CubeFilter\u001b[0m\u001b[0;34m(\u001b[0m\u001b[0mself\u001b[0m\u001b[0;34m.\u001b[0m\u001b[0mconstraint\u001b[0m\u001b[0;34m,\u001b[0m \u001b[0mself\u001b[0m\u001b[0;34m.\u001b[0m\u001b[0mcubes\u001b[0m\u001b[0;34m.\u001b[0m\u001b[0mmerge\u001b[0m\u001b[0;34m(\u001b[0m\u001b[0munique\u001b[0m\u001b[0;34m)\u001b[0m\u001b[0;34m)\u001b[0m\u001b[0;34m\u001b[0m\u001b[0m\n\u001b[0m\u001b[1;32m    128\u001b[0m \u001b[0;34m\u001b[0m\u001b[0m\n\u001b[1;32m    129\u001b[0m \u001b[0;34m\u001b[0m\u001b[0m\n",
      "\u001b[0;32m/nesi/nobackup/niwa00013/williamsjh/miniconda2/envs/master/lib/python2.7/site-packages/iris/cube.pyc\u001b[0m in \u001b[0;36mmerge\u001b[0;34m(self, unique)\u001b[0m\n\u001b[1;32m    451\u001b[0m \u001b[0;34m\u001b[0m\u001b[0m\n\u001b[1;32m    452\u001b[0m             \u001b[0;32mfor\u001b[0m \u001b[0mtarget_proto_cube\u001b[0m \u001b[0;32min\u001b[0m \u001b[0mproto_cubes\u001b[0m\u001b[0;34m:\u001b[0m\u001b[0;34m\u001b[0m\u001b[0m\n\u001b[0;32m--> 453\u001b[0;31m                 \u001b[0;32mif\u001b[0m \u001b[0mtarget_proto_cube\u001b[0m\u001b[0;34m.\u001b[0m\u001b[0mregister\u001b[0m\u001b[0;34m(\u001b[0m\u001b[0mcube\u001b[0m\u001b[0;34m)\u001b[0m\u001b[0;34m:\u001b[0m\u001b[0;34m\u001b[0m\u001b[0m\n\u001b[0m\u001b[1;32m    454\u001b[0m                     \u001b[0mproto_cube\u001b[0m \u001b[0;34m=\u001b[0m \u001b[0mtarget_proto_cube\u001b[0m\u001b[0;34m\u001b[0m\u001b[0m\n\u001b[1;32m    455\u001b[0m                     \u001b[0;32mbreak\u001b[0m\u001b[0;34m\u001b[0m\u001b[0m\n",
      "\u001b[0;32m/nesi/nobackup/niwa00013/williamsjh/miniconda2/envs/master/lib/python2.7/site-packages/iris/_merge.pyc\u001b[0m in \u001b[0;36mregister\u001b[0;34m(self, cube, error_on_mismatch)\u001b[0m\n\u001b[1;32m   1273\u001b[0m         \u001b[0mcube_signature\u001b[0m \u001b[0;34m=\u001b[0m \u001b[0mself\u001b[0m\u001b[0;34m.\u001b[0m\u001b[0m_cube_signature\u001b[0m\u001b[0;34m\u001b[0m\u001b[0m\n\u001b[1;32m   1274\u001b[0m         \u001b[0mother\u001b[0m \u001b[0;34m=\u001b[0m \u001b[0mself\u001b[0m\u001b[0;34m.\u001b[0m\u001b[0m_build_signature\u001b[0m\u001b[0;34m(\u001b[0m\u001b[0mcube\u001b[0m\u001b[0;34m)\u001b[0m\u001b[0;34m\u001b[0m\u001b[0m\n\u001b[0;32m-> 1275\u001b[0;31m         \u001b[0mmatch\u001b[0m \u001b[0;34m=\u001b[0m \u001b[0mcube_signature\u001b[0m\u001b[0;34m.\u001b[0m\u001b[0mmatch\u001b[0m\u001b[0;34m(\u001b[0m\u001b[0mother\u001b[0m\u001b[0;34m,\u001b[0m \u001b[0merror_on_mismatch\u001b[0m\u001b[0;34m)\u001b[0m\u001b[0;34m\u001b[0m\u001b[0m\n\u001b[0m\u001b[1;32m   1276\u001b[0m         \u001b[0;32mif\u001b[0m \u001b[0mmatch\u001b[0m\u001b[0;34m:\u001b[0m\u001b[0;34m\u001b[0m\u001b[0m\n\u001b[1;32m   1277\u001b[0m             \u001b[0mcoord_payload\u001b[0m \u001b[0;34m=\u001b[0m \u001b[0mself\u001b[0m\u001b[0;34m.\u001b[0m\u001b[0m_extract_coord_payload\u001b[0m\u001b[0;34m(\u001b[0m\u001b[0mcube\u001b[0m\u001b[0;34m)\u001b[0m\u001b[0;34m\u001b[0m\u001b[0m\n",
      "\u001b[0;32m/nesi/nobackup/niwa00013/williamsjh/miniconda2/envs/master/lib/python2.7/site-packages/iris/_merge.pyc\u001b[0m in \u001b[0;36mmatch\u001b[0;34m(self, other, error_on_mismatch)\u001b[0m\n\u001b[1;32m    397\u001b[0m \u001b[0;34m\u001b[0m\u001b[0m\n\u001b[1;32m    398\u001b[0m         \"\"\"\n\u001b[0;32m--> 399\u001b[0;31m         \u001b[0mmsgs\u001b[0m \u001b[0;34m=\u001b[0m \u001b[0mself\u001b[0m\u001b[0;34m.\u001b[0m\u001b[0m_defn_msgs\u001b[0m\u001b[0;34m(\u001b[0m\u001b[0mother\u001b[0m\u001b[0;34m.\u001b[0m\u001b[0mdefn\u001b[0m\u001b[0;34m)\u001b[0m\u001b[0;34m\u001b[0m\u001b[0m\n\u001b[0m\u001b[1;32m    400\u001b[0m         \u001b[0;32mif\u001b[0m \u001b[0mself\u001b[0m\u001b[0;34m.\u001b[0m\u001b[0mdata_shape\u001b[0m \u001b[0;34m!=\u001b[0m \u001b[0mother\u001b[0m\u001b[0;34m.\u001b[0m\u001b[0mdata_shape\u001b[0m\u001b[0;34m:\u001b[0m\u001b[0;34m\u001b[0m\u001b[0m\n\u001b[1;32m    401\u001b[0m             \u001b[0mmsg\u001b[0m \u001b[0;34m=\u001b[0m \u001b[0;34m'cube.shape differs: {} != {}'\u001b[0m\u001b[0;34m\u001b[0m\u001b[0m\n",
      "\u001b[0;32m/nesi/nobackup/niwa00013/williamsjh/miniconda2/envs/master/lib/python2.7/site-packages/iris/_merge.pyc\u001b[0m in \u001b[0;36m_defn_msgs\u001b[0;34m(self, other_defn)\u001b[0m\n\u001b[1;32m    363\u001b[0m                 diff_attrs = [repr(key) for key in self_defn.attributes\n\u001b[1;32m    364\u001b[0m                               if np.all(self_defn.attributes[key] !=\n\u001b[0;32m--> 365\u001b[0;31m                                         other_defn.attributes[key])]\n\u001b[0m\u001b[1;32m    366\u001b[0m                 \u001b[0mdiff_attrs\u001b[0m \u001b[0;34m=\u001b[0m \u001b[0;34m', '\u001b[0m\u001b[0;34m.\u001b[0m\u001b[0mjoin\u001b[0m\u001b[0;34m(\u001b[0m\u001b[0mdiff_attrs\u001b[0m\u001b[0;34m)\u001b[0m\u001b[0;34m\u001b[0m\u001b[0m\n\u001b[1;32m    367\u001b[0m                 msgs.append(\n",
      "\u001b[0;32m/nesi/nobackup/niwa00013/williamsjh/miniconda2/envs/master/lib/python2.7/site-packages/numpy/core/fromnumeric.pyc\u001b[0m in \u001b[0;36mall\u001b[0;34m(a, axis, out, keepdims)\u001b[0m\n\u001b[1;32m   2087\u001b[0m \u001b[0;34m\u001b[0m\u001b[0m\n\u001b[1;32m   2088\u001b[0m     \"\"\"\n\u001b[0;32m-> 2089\u001b[0;31m     \u001b[0;32mreturn\u001b[0m \u001b[0m_wrapreduction\u001b[0m\u001b[0;34m(\u001b[0m\u001b[0ma\u001b[0m\u001b[0;34m,\u001b[0m \u001b[0mnp\u001b[0m\u001b[0;34m.\u001b[0m\u001b[0mlogical_and\u001b[0m\u001b[0;34m,\u001b[0m \u001b[0;34m'all'\u001b[0m\u001b[0;34m,\u001b[0m \u001b[0maxis\u001b[0m\u001b[0;34m,\u001b[0m \u001b[0mNone\u001b[0m\u001b[0;34m,\u001b[0m \u001b[0mout\u001b[0m\u001b[0;34m,\u001b[0m \u001b[0mkeepdims\u001b[0m\u001b[0;34m=\u001b[0m\u001b[0mkeepdims\u001b[0m\u001b[0;34m)\u001b[0m\u001b[0;34m\u001b[0m\u001b[0m\n\u001b[0m\u001b[1;32m   2090\u001b[0m \u001b[0;34m\u001b[0m\u001b[0m\n\u001b[1;32m   2091\u001b[0m \u001b[0;34m\u001b[0m\u001b[0m\n",
      "\u001b[0;32m/nesi/nobackup/niwa00013/williamsjh/miniconda2/envs/master/lib/python2.7/site-packages/numpy/core/fromnumeric.pyc\u001b[0m in \u001b[0;36m_wrapreduction\u001b[0;34m(obj, ufunc, method, axis, dtype, out, **kwargs)\u001b[0m\n\u001b[1;32m     81\u001b[0m                 \u001b[0;32mreturn\u001b[0m \u001b[0mreduction\u001b[0m\u001b[0;34m(\u001b[0m\u001b[0maxis\u001b[0m\u001b[0;34m=\u001b[0m\u001b[0maxis\u001b[0m\u001b[0;34m,\u001b[0m \u001b[0mout\u001b[0m\u001b[0;34m=\u001b[0m\u001b[0mout\u001b[0m\u001b[0;34m,\u001b[0m \u001b[0;34m**\u001b[0m\u001b[0mpasskwargs\u001b[0m\u001b[0;34m)\u001b[0m\u001b[0;34m\u001b[0m\u001b[0m\n\u001b[1;32m     82\u001b[0m \u001b[0;34m\u001b[0m\u001b[0m\n\u001b[0;32m---> 83\u001b[0;31m     \u001b[0;32mreturn\u001b[0m \u001b[0mufunc\u001b[0m\u001b[0;34m.\u001b[0m\u001b[0mreduce\u001b[0m\u001b[0;34m(\u001b[0m\u001b[0mobj\u001b[0m\u001b[0;34m,\u001b[0m \u001b[0maxis\u001b[0m\u001b[0;34m,\u001b[0m \u001b[0mdtype\u001b[0m\u001b[0;34m,\u001b[0m \u001b[0mout\u001b[0m\u001b[0;34m,\u001b[0m \u001b[0;34m**\u001b[0m\u001b[0mpasskwargs\u001b[0m\u001b[0;34m)\u001b[0m\u001b[0;34m\u001b[0m\u001b[0m\n\u001b[0m\u001b[1;32m     84\u001b[0m \u001b[0;34m\u001b[0m\u001b[0m\n\u001b[1;32m     85\u001b[0m \u001b[0;34m\u001b[0m\u001b[0m\n",
      "\u001b[0;31mKeyboardInterrupt\u001b[0m: "
     ]
    }
   ],
   "source": [
    "import copy\n",
    "\n",
    "year = 1961\n",
    "\n",
    "####\n",
    "\n",
    "#djf\n",
    "print 'djf'\n",
    "\n",
    "files = list(braceexpand(out_dir+'/../*pm*{'+str(year - 1)+'dec,'+str(year)+'{jan,feb}}.pp'))\n",
    "\n",
    "vars = iris.load(files)\n",
    "\n",
    "foo=copy.copy(vars)\n",
    "\n",
    "for i in range(len(vars)):\n",
    "    foo[i] = vars[i].collapsed('time',iris.analysis.MEAN)\n",
    "\n",
    "pkl = runid+'a.ps'+str(year)+'djf'    \n",
    "    \n",
    "pickle.dump(foo, open(pkl+'.pkl', \"wb\" ) )    \n",
    "    \n",
    "iris.save(foo,out_dir+'/'+runid+'a.ps'+str(year)+'djf.pp')\n",
    "\n",
    "###########################################################################################################################\n",
    "\n",
    "#mam\n",
    "print 'mam'\n",
    "\n",
    "files = list(braceexpand(out_dir+'/../*pm*'+str(year)+'*{mar,apr,may}.pp'))\n",
    "\n",
    "vars = iris.load(files)\n",
    "foo = copy.copy(vars)\n",
    "\n",
    "for i in range(len(vars)):\n",
    "    foo[i] = vars[i].collapsed('time',iris.analysis.MEAN)\n",
    "    \n",
    "    \n",
    "pickle.dump(foo, open(pkl[:2], \"wb\" ) )       \n",
    "    \n",
    "iris.save(foo,out_dir+'/'+runid+'a.ps'+year+'mam.pp')\n",
    "\n",
    "###########################################################################################################################\n",
    "\n",
    "#jja       \n",
    "print 'jja'\n",
    "\n",
    "files = list(braceexpand(out_dir+'/../*pm*'+str(year)+'*{jun,jul,aug}.pp'))\n",
    "                         \n",
    "vars = iris.load(files)\n",
    "foo = copy.copy(vars)\n",
    "\n",
    "for i in range(len(vars)):\n",
    "    foo[i] = vars[i].collapsed('time',iris.analysis.MEAN)\n",
    "\n",
    "pkl = out_dir+'/'+runid+'a.ps1'+year+'djf.pkl'    \n",
    "    \n",
    "pickle.dump(foo, open(pkl[:2], \"wb\" ) )      \n",
    "\n",
    "iris.save(foo,out_dir+'/'+runid+'a.ps'+year+'jja.pp')\n",
    "\n",
    "###########################################################################################################################\n",
    "\n",
    "#son          \n",
    "print 'son'\n",
    "\n",
    "files = list(braceexpand(out_dir+'/../*pm*'+str(year)+'*{sep,oct,nov}.pp'))\n",
    "                         \n",
    "vars = iris.load(files)\n",
    "foo = copy.copy(vars)\n",
    "\n",
    "for i in range(len(vars)):\n",
    "    foo[i] = vars[i].collapsed('time',iris.analysis.MEAN)\n",
    "    \n",
    "pkl = out_dir+'/'+runid+'a.ps'+year+'djf.pkl'    \n",
    "    \n",
    "pickle.dump(foo, open(pkl[:2], \"wb\" ) )       \n",
    "    \n",
    "iris.save(foo,out_dir+'/'+runid+'a.ps'+year+'son.pp')\n"
   ]
  },
  {
   "cell_type": "code",
   "execution_count": null,
   "metadata": {},
   "outputs": [],
   "source": []
  },
  {
   "cell_type": "code",
   "execution_count": null,
   "metadata": {},
   "outputs": [],
   "source": []
  },
  {
   "cell_type": "markdown",
   "metadata": {},
   "source": [
    "# supermeans from already existing seasonal and annual means"
   ]
  },
  {
   "cell_type": "markdown",
   "metadata": {},
   "source": [
    "load data "
   ]
  },
  {
   "cell_type": "code",
   "execution_count": 1,
   "metadata": {},
   "outputs": [
    {
     "name": "stdout",
     "output_type": "stream",
     "text": [
      "/nesi/nobackup/niwa00013/williamsjh/esmeval/user_data/williamsjh/model_data/u-bc048\n"
     ]
    }
   ],
   "source": [
    "in_dir_base='/home/williamsjh/cylc-run/'\n",
    "runid='bc048'\n",
    "\n",
    "whoami='williamsjh'\n",
    "\n",
    "project='niwa00013'\n",
    "\n",
    "out_dir='/nesi/nobackup/'+project+'/'+whoami+'/esmeval/user_data/'+whoami+'/model_data/u-'+runid\n",
    "\n",
    "in_dir=in_dir_base+'u-'+runid+'/share/data/History_Data/'\n",
    "\n",
    "firstyear=1961\n",
    "\n",
    "nyears = 2\n",
    "\n",
    "years=tuple(range(firstyear,firstyear+nyears))\n",
    "\n",
    "type(years)\n",
    "\n",
    "#print the years\n",
    "years\n",
    "\n",
    "print out_dir\n"
   ]
  },
  {
   "cell_type": "code",
   "execution_count": 2,
   "metadata": {},
   "outputs": [],
   "source": [
    "len(years)\n",
    "\n",
    "if len(years) == 2:\n",
    "    supermeanlabel = '2'\n",
    "\n",
    "\n",
    "if len(years) == 10:\n",
    "    supermeanlabel = 'a'\n",
    "    \n",
    "if len(years) == 20:\n",
    "    supermeanlabel = 'k'\n",
    "\n",
    "if len(years) == 2:\n",
    "    supermeanlabel = '2'\n",
    "\n",
    "if len(years) >= 30 and len(years) <40:\n",
    "    supermeanlabel = 't'\n",
    "\n",
    "if len(years) >= 50 and len(years) <100:\n",
    "    supermeanlabel = 'l'\n"
   ]
  },
  {
   "cell_type": "code",
   "execution_count": 3,
   "metadata": {},
   "outputs": [],
   "source": [
    "if not os.path.exists(out_dir+'/supermeans-maui'):\n",
    "    os.makedirs(out_dir+'/supermeans-maui')"
   ]
  },
  {
   "cell_type": "code",
   "execution_count": 4,
   "metadata": {},
   "outputs": [
    {
     "name": "stdout",
     "output_type": "stream",
     "text": [
      "ann\n"
     ]
    },
    {
     "ename": "NameError",
     "evalue": "name 'sys' is not defined",
     "output_type": "error",
     "traceback": [
      "\u001b[0;31m---------------------------------------------------------------------------\u001b[0m",
      "\u001b[0;31mNameError\u001b[0m                                 Traceback (most recent call last)",
      "\u001b[0;32m<ipython-input-4-04d933d27342>\u001b[0m in \u001b[0;36m<module>\u001b[0;34m()\u001b[0m\n\u001b[1;32m      3\u001b[0m \u001b[0;34m\u001b[0m\u001b[0m\n\u001b[1;32m      4\u001b[0m     \u001b[0;32mprint\u001b[0m \u001b[0mperiod\u001b[0m\u001b[0;34m\u001b[0m\u001b[0m\n\u001b[0;32m----> 5\u001b[0;31m     \u001b[0msys\u001b[0m\u001b[0;34m.\u001b[0m\u001b[0mstdout\u001b[0m\u001b[0;34m.\u001b[0m\u001b[0mflush\u001b[0m\u001b[0;34m(\u001b[0m\u001b[0;34m)\u001b[0m\u001b[0;34m\u001b[0m\u001b[0m\n\u001b[0m\u001b[1;32m      6\u001b[0m \u001b[0;34m\u001b[0m\u001b[0m\n\u001b[1;32m      7\u001b[0m     \u001b[0;32mif\u001b[0m \u001b[0mperiod\u001b[0m \u001b[0;34m==\u001b[0m \u001b[0;34m'ann'\u001b[0m\u001b[0;34m:\u001b[0m\u001b[0;34m\u001b[0m\u001b[0m\n",
      "\u001b[0;31mNameError\u001b[0m: name 'sys' is not defined"
     ]
    }
   ],
   "source": []
  },
  {
   "cell_type": "code",
   "execution_count": 6,
   "metadata": {},
   "outputs": [
    {
     "name": "stdout",
     "output_type": "stream",
     "text": [
      "jja\n",
      "['/home/williamsjh/cylc-run/u-ai955/share/data/History_Data//*ps*1989*jja*', '/home/williamsjh/cylc-run/u-ai955/share/data/History_Data//*ps*1990*jja*', '/home/williamsjh/cylc-run/u-ai955/share/data/History_Data//*ps*1991*jja*', '/home/williamsjh/cylc-run/u-ai955/share/data/History_Data//*ps*1992*jja*', '/home/williamsjh/cylc-run/u-ai955/share/data/History_Data//*ps*1993*jja*', '/home/williamsjh/cylc-run/u-ai955/share/data/History_Data//*ps*1994*jja*', '/home/williamsjh/cylc-run/u-ai955/share/data/History_Data//*ps*1995*jja*', '/home/williamsjh/cylc-run/u-ai955/share/data/History_Data//*ps*1996*jja*', '/home/williamsjh/cylc-run/u-ai955/share/data/History_Data//*ps*1997*jja*', '/home/williamsjh/cylc-run/u-ai955/share/data/History_Data//*ps*1998*jja*', '/home/williamsjh/cylc-run/u-ai955/share/data/History_Data//*ps*1999*jja*', '/home/williamsjh/cylc-run/u-ai955/share/data/History_Data//*ps*2000*jja*', '/home/williamsjh/cylc-run/u-ai955/share/data/History_Data//*ps*2001*jja*', '/home/williamsjh/cylc-run/u-ai955/share/data/History_Data//*ps*2002*jja*', '/home/williamsjh/cylc-run/u-ai955/share/data/History_Data//*ps*2003*jja*', '/home/williamsjh/cylc-run/u-ai955/share/data/History_Data//*ps*2004*jja*', '/home/williamsjh/cylc-run/u-ai955/share/data/History_Data//*ps*2005*jja*', '/home/williamsjh/cylc-run/u-ai955/share/data/History_Data//*ps*2006*jja*', '/home/williamsjh/cylc-run/u-ai955/share/data/History_Data//*ps*2007*jja*', '/home/williamsjh/cylc-run/u-ai955/share/data/History_Data//*ps*2008*jja*']\n"
     ]
    },
    {
     "name": "stderr",
     "output_type": "stream",
     "text": [
      "/nesi/nobackup/niwa00013/williamsjh/miniconda2/envs/master/lib/python2.7/site-packages/iris/fileformats/_ff.py:714: UserWarning: The stash code m01s26i001 is on a grid 23 which has not been explicitly handled by the fieldsfile loader. Assuming the data is on a P grid.\n",
      "  '.'.format(stash, subgrid))\n",
      "/nesi/nobackup/niwa00013/williamsjh/miniconda2/envs/master/lib/python2.7/site-packages/iris/fileformats/_ff.py:714: UserWarning: The stash code m01s26i002 is on a grid 23 which has not been explicitly handled by the fieldsfile loader. Assuming the data is on a P grid.\n",
      "  '.'.format(stash, subgrid))\n",
      "/nesi/nobackup/niwa00013/williamsjh/miniconda2/envs/master/lib/python2.7/site-packages/iris/fileformats/_ff.py:714: UserWarning: The stash code m01s26i003 is on a grid 23 which has not been explicitly handled by the fieldsfile loader. Assuming the data is on a P grid.\n",
      "  '.'.format(stash, subgrid))\n",
      "/nesi/nobackup/niwa00013/williamsjh/miniconda2/envs/master/lib/python2.7/site-packages/iris/fileformats/_ff.py:714: UserWarning: The stash code m01s26i006 is on a grid 23 which has not been explicitly handled by the fieldsfile loader. Assuming the data is on a P grid.\n",
      "  '.'.format(stash, subgrid))\n",
      "/nesi/nobackup/niwa00013/williamsjh/miniconda2/envs/master/lib/python2.7/site-packages/iris/coords.py:1210: UserWarning: Collapsing a non-contiguous coordinate. Metadata may not be fully descriptive for 'time'.\n",
      "  warnings.warn(msg.format(self.name()))\n",
      "/nesi/nobackup/niwa00013/williamsjh/miniconda2/envs/master/lib/python2.7/site-packages/iris/coords.py:1210: UserWarning: Collapsing a non-contiguous coordinate. Metadata may not be fully descriptive for 'forecast_period'.\n",
      "  warnings.warn(msg.format(self.name()))\n"
     ]
    },
    {
     "name": "stdout",
     "output_type": "stream",
     "text": [
      "/nesi/nobackup/niwa00013/williamsjh/esmeval/user_data/williamsjh/model_data/u-ai955\n"
     ]
    },
    {
     "name": "stderr",
     "output_type": "stream",
     "text": [
      "/nesi/nobackup/niwa00013/williamsjh/miniconda2/envs/master/lib/python2.7/site-packages/iris/fileformats/pp.py:1250: UserWarning: Downcasting array precision from float64 to float32 for save.If float64 precision is required then please save in a different format\n",
      "  warnings.warn(\"Downcasting array precision from float64 to float32\"\n"
     ]
    },
    {
     "name": "stdout",
     "output_type": "stream",
     "text": [
      "son\n",
      "['/home/williamsjh/cylc-run/u-ai955/share/data/History_Data//*ps*1989*son*', '/home/williamsjh/cylc-run/u-ai955/share/data/History_Data//*ps*1990*son*', '/home/williamsjh/cylc-run/u-ai955/share/data/History_Data//*ps*1991*son*', '/home/williamsjh/cylc-run/u-ai955/share/data/History_Data//*ps*1992*son*', '/home/williamsjh/cylc-run/u-ai955/share/data/History_Data//*ps*1993*son*', '/home/williamsjh/cylc-run/u-ai955/share/data/History_Data//*ps*1994*son*', '/home/williamsjh/cylc-run/u-ai955/share/data/History_Data//*ps*1995*son*', '/home/williamsjh/cylc-run/u-ai955/share/data/History_Data//*ps*1996*son*', '/home/williamsjh/cylc-run/u-ai955/share/data/History_Data//*ps*1997*son*', '/home/williamsjh/cylc-run/u-ai955/share/data/History_Data//*ps*1998*son*', '/home/williamsjh/cylc-run/u-ai955/share/data/History_Data//*ps*1999*son*', '/home/williamsjh/cylc-run/u-ai955/share/data/History_Data//*ps*2000*son*', '/home/williamsjh/cylc-run/u-ai955/share/data/History_Data//*ps*2001*son*', '/home/williamsjh/cylc-run/u-ai955/share/data/History_Data//*ps*2002*son*', '/home/williamsjh/cylc-run/u-ai955/share/data/History_Data//*ps*2003*son*', '/home/williamsjh/cylc-run/u-ai955/share/data/History_Data//*ps*2004*son*', '/home/williamsjh/cylc-run/u-ai955/share/data/History_Data//*ps*2005*son*', '/home/williamsjh/cylc-run/u-ai955/share/data/History_Data//*ps*2006*son*', '/home/williamsjh/cylc-run/u-ai955/share/data/History_Data//*ps*2007*son*', '/home/williamsjh/cylc-run/u-ai955/share/data/History_Data//*ps*2008*son*']\n",
      "/nesi/nobackup/niwa00013/williamsjh/esmeval/user_data/williamsjh/model_data/u-ai955\n"
     ]
    }
   ],
   "source": [
    "for period in ['ann','djf','mam','jja','son']:\n",
    "\n",
    "    \n",
    "    print period\n",
    "    sys.stdout.flush()\n",
    "    \n",
    "    if period == 'ann':\n",
    "        sys.stdout.flush()\n",
    "        fnames = [in_dir+'/*py*{}*'.format(year) for year in years]\n",
    "        print fnames\n",
    "        sys.stdout.flush()\n",
    "    else:\n",
    "        fnames = [in_dir+'/*ps*{}*'.format(year)+period+'*' for year in years]\n",
    "        print fnames\n",
    "        sys.stdout.flush()\n",
    "\n",
    "    native = iris.load(fnames)\n",
    "    nativemean = native \n",
    "    \n",
    "    for i in range(len(native)):\n",
    "        nativemean[i] = native[i].collapsed('time',iris.analysis.MEAN)\n",
    "    \n",
    "    os.chdir(out_dir)\n",
    "\n",
    "    print out_dir\n",
    "\n",
    "\n",
    "\n",
    "    iris.save(nativemean,out_dir+'/supermeans-maui'+'/'+runid+'a.m'+supermeanlabel+str(years[-1])+period+'.pp')\n",
    "    # the m in the previous line is the 'mean' indicator.\n",
    "    \n",
    "\n",
    "\n"
   ]
  },
  {
   "cell_type": "code",
   "execution_count": 22,
   "metadata": {},
   "outputs": [
    {
     "name": "stdout",
     "output_type": "stream",
     "text": [
      "/nesi/nobackup/williamsjh/esmeval/user_data/williamsjh/model_data/u-av818\n"
     ]
    }
   ],
   "source": [
    "print out_dir"
   ]
  },
  {
   "cell_type": "code",
   "execution_count": 25,
   "metadata": {},
   "outputs": [
    {
     "name": "stdout",
     "output_type": "stream",
     "text": [
      "/nesi/nobackup/williamsjh/esmeval/user_data/williamsjh/model_data/u-av818\n"
     ]
    }
   ],
   "source": [
    "os.chdir(out_dir)\n",
    "\n",
    "print out_dir\n",
    "\n",
    "if not os.path.exists(out_dir+'/supermeans'):\n",
    "    os.makedirs(out_dir+'/supermeans')\n",
    "\n",
    "iris.save(nativemean,out_dir+'/supermeans'+'/'+runid+'a.m'+supermeanlabel+str(years[-1])+period+'.pp')"
   ]
  },
  {
   "cell_type": "code",
   "execution_count": null,
   "metadata": {
    "collapsed": true
   },
   "outputs": [],
   "source": []
  },
  {
   "cell_type": "code",
   "execution_count": null,
   "metadata": {
    "collapsed": true
   },
   "outputs": [],
   "source": []
  }
 ],
 "metadata": {
  "kernelspec": {
   "display_name": "Python 2",
   "language": "python",
   "name": "python2"
  },
  "language_info": {
   "codemirror_mode": {
    "name": "ipython",
    "version": 2
   },
   "file_extension": ".py",
   "mimetype": "text/x-python",
   "name": "python",
   "nbconvert_exporter": "python",
   "pygments_lexer": "ipython2",
   "version": "2.7.15"
  },
  "widgets": {
   "state": {},
   "version": "1.1.2"
  }
 },
 "nbformat": 4,
 "nbformat_minor": 1
}

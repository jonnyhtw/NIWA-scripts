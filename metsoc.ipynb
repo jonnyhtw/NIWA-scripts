{
 "cells": [
  {
   "cell_type": "markdown",
   "metadata": {},
   "source": [
    "# animation for 2019 met soc conference"
   ]
  },
  {
   "cell_type": "markdown",
   "metadata": {},
   "source": [
    "Firstly, clear all variables in the local memory."
   ]
  },
  {
   "cell_type": "code",
   "execution_count": 1,
   "metadata": {},
   "outputs": [],
   "source": [
    "for name in dir():\n",
    "    if not name.startswith('_'):\n",
    "        del globals()[name]"
   ]
  },
  {
   "cell_type": "markdown",
   "metadata": {},
   "source": [
    "Now import modules etc."
   ]
  },
  {
   "cell_type": "code",
   "execution_count": 2,
   "metadata": {},
   "outputs": [],
   "source": [
    "import cartopy.crs as ccrs\n",
    "import matplotlib\n",
    "import matplotlib.pyplot as plt\n",
    "import iris\n",
    "import iris.plot as iplt\n",
    "import iris.quickplot as qplt\n",
    "import numpy as np\n",
    "import datetime\n",
    "from iris.time import PartialDateTime\n",
    "import iris.analysis\n",
    "import netCDF4\n",
    "from netCDF4 import Dataset\n",
    "import os\n",
    "from pylab import *\n",
    "import cartopy.crs as ccrs\n",
    "import iris.analysis.cartography\n",
    "import re\n",
    "from os import listdir\n"
   ]
  },
  {
   "cell_type": "markdown",
   "metadata": {},
   "source": [
    "The following renders graphics inside the Jupyter document"
   ]
  },
  {
   "cell_type": "code",
   "execution_count": 3,
   "metadata": {},
   "outputs": [],
   "source": [
    "#%matplotlib inline"
   ]
  },
  {
   "cell_type": "markdown",
   "metadata": {},
   "source": [
    "Increase font size for graphics"
   ]
  },
  {
   "cell_type": "code",
   "execution_count": 4,
   "metadata": {},
   "outputs": [],
   "source": [
    "matplotlib.rcParams['font.size'] = 24"
   ]
  },
  {
   "cell_type": "code",
   "execution_count": 5,
   "metadata": {},
   "outputs": [
    {
     "name": "stdout",
     "output_type": "stream",
     "text": [
      "williamsjh\n"
     ]
    }
   ],
   "source": [
    "import os\n",
    "print(os.environ['USER'])"
   ]
  },
  {
   "cell_type": "code",
   "execution_count": 8,
   "metadata": {},
   "outputs": [],
   "source": [
    "fname = '/nesi/nobackup/niwa00013/williamsjh/cylc-run/u-bc048/share/data/History_Data/bc048a.pa1960feb.pp'\n",
    "uconstraint = iris.AttributeConstraint(STASH='m01s30i201') & iris.Constraint(pressure=850)\n",
    "vconstraint = iris.AttributeConstraint(STASH='m01s30i202') & iris.Constraint(pressure=850)\n",
    "\n",
    "\n",
    "uwind = iris.load_cube(fname,uconstraint)\n",
    "vwind = iris.load_cube(fname,vconstraint)\n"
   ]
  },
  {
   "cell_type": "code",
   "execution_count": 9,
   "metadata": {},
   "outputs": [],
   "source": [
    "import matplotlib.pyplot as plt\n",
    "import numpy as np\n",
    "\n",
    "import iris\n",
    "import iris.coord_categorisation\n",
    "import iris.quickplot as qplt\n",
    "\n",
    "import cartopy\n",
    "import cartopy.feature as cfeat\n",
    "import cartopy.crs as ccrs"
   ]
  },
  {
   "cell_type": "code",
   "execution_count": 11,
   "metadata": {},
   "outputs": [],
   "source": [
    "for i in range(0,30):\n",
    "\n",
    "    ulon = uwind.coord('longitude')\n",
    "    vlon = vwind.coord('longitude')\n",
    "\n",
    "    # The longitude points go from 180 to 540, so subtract 360 from them\n",
    "    ulon.points = ulon.points - 360.0\n",
    "    vlon.points = vlon.points - 360.0\n",
    "\n",
    "\n",
    "    \n",
    "    x = ulon.points\n",
    "    y = uwind.coord('latitude').points\n",
    "    u = uwind[i].data\n",
    "    v = vwind[i].data\n",
    "\n",
    "    windspeed = (uwind[i] ** 2 + vwind[i] ** 2) ** 0.5\n",
    "\n",
    "    windspeed.data= windspeed.data/np.max(windspeed.data)\n",
    "\n",
    "    plt.figure(figsize=(20,20))\n",
    "    ax = plt.axes(projection=ccrs.PlateCarree())\n",
    "\n",
    "    # Get the coordinate reference system used by the data\n",
    "    #transform = ulon.coord_system.as_cartopy_projection()\n",
    "\n",
    "    # Plot the wind speed as a contour plot\n",
    "    levels=range(0,21)\n",
    "    qplt.contourf(windspeed, 20)\n",
    "\n",
    "    plt.title('Normalised 850mb wind speed on day '+str(i+1)+' (m$\\cdot$s$^{-1}$)')\n",
    "    plt.gca().coastlines()\n",
    "    plt.savefig('./'+str(i)+'.png')\n",
    "    plt.close()\n"
   ]
  },
  {
   "cell_type": "code",
   "execution_count": null,
   "metadata": {},
   "outputs": [],
   "source": []
  },
  {
   "cell_type": "code",
   "execution_count": null,
   "metadata": {},
   "outputs": [],
   "source": []
  },
  {
   "cell_type": "code",
   "execution_count": null,
   "metadata": {},
   "outputs": [],
   "source": []
  },
  {
   "cell_type": "code",
   "execution_count": null,
   "metadata": {},
   "outputs": [],
   "source": []
  },
  {
   "cell_type": "code",
   "execution_count": null,
   "metadata": {},
   "outputs": [],
   "source": []
  },
  {
   "cell_type": "code",
   "execution_count": null,
   "metadata": {},
   "outputs": [],
   "source": []
  }
 ],
 "metadata": {
  "kernelspec": {
   "display_name": "Python 2",
   "language": "python",
   "name": "python2"
  },
  "language_info": {
   "codemirror_mode": {
    "name": "ipython",
    "version": 2
   },
   "file_extension": ".py",
   "mimetype": "text/x-python",
   "name": "python",
   "nbconvert_exporter": "python",
   "pygments_lexer": "ipython2",
   "version": "2.7.15"
  },
  "widgets": {
   "state": {},
   "version": "1.1.2"
  }
 },
 "nbformat": 4,
 "nbformat_minor": 1
}

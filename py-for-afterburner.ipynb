{
 "cells": [
  {
   "cell_type": "code",
   "execution_count": 1,
   "metadata": {},
   "outputs": [],
   "source": [
    "import cartopy.crs as ccrs\n",
    "import matplotlib\n",
    "import matplotlib.pyplot as plt\n",
    "import iris\n",
    "import iris.plot as iplt\n",
    "import iris.quickplot as qplt\n",
    "import numpy as np\n",
    "import datetime\n",
    "from iris.time import PartialDateTime\n",
    "import iris.analysis\n",
    "import netCDF4\n",
    "from netCDF4 import Dataset\n",
    "import os\n",
    "import numpy as np\n",
    "import matplotlib.pyplot as plt\n",
    "\n",
    "from braceexpand import braceexpand\n",
    "\n",
    "import numpy as np\n",
    "import  copy\n",
    "import matplotlib.pyplot as plt\n",
    "#import animatplot as amp -> only works with python 3\n",
    "from pylab import *\n",
    "import cartopy.crs as ccrs\n",
    "import iris.analysis.cartography\n",
    "import re\n",
    "from os import listdir\n",
    "import mule"
   ]
  },
  {
   "cell_type": "code",
   "execution_count": 2,
   "metadata": {},
   "outputs": [],
   "source": [
    "suite = 'u-bl274'"
   ]
  },
  {
   "cell_type": "code",
   "execution_count": 3,
   "metadata": {},
   "outputs": [],
   "source": [
    "base = '/home/williamsjh/cylc-run/'+suite+'/share/data/History_Data/'"
   ]
  },
  {
   "cell_type": "code",
   "execution_count": 4,
   "metadata": {},
   "outputs": [],
   "source": [
    "os.chdir(base)"
   ]
  },
  {
   "cell_type": "code",
   "execution_count": 5,
   "metadata": {},
   "outputs": [
    {
     "name": "stdout",
     "output_type": "stream",
     "text": [
      "lbtim122and24022 directory already exists\n"
     ]
    }
   ],
   "source": [
    "import os\n",
    "if not os.path.exists('lbtim122and24022'):\n",
    "    print('creating '+'lbtim122and24022'+' directory')\n",
    "    os.makedirs('lbtim122and24022')\n",
    "else:\n",
    "    print('lbtim122and24022 directory already exists')"
   ]
  },
  {
   "cell_type": "code",
   "execution_count": 6,
   "metadata": {},
   "outputs": [
    {
     "data": {
      "text/plain": [
       "u'/scale_wlg_nobackup/filesets/nobackup/niwa00013/williamsjh/cylc-run/u-bl274/share/data/History_Data'"
      ]
     },
     "execution_count": 6,
     "metadata": {},
     "output_type": "execute_result"
    }
   ],
   "source": [
    "pwd"
   ]
  },
  {
   "cell_type": "code",
   "execution_count": 7,
   "metadata": {},
   "outputs": [],
   "source": [
    "os.chdir(base)"
   ]
  },
  {
   "cell_type": "code",
   "execution_count": 19,
   "metadata": {},
   "outputs": [
    {
     "data": {
      "text/plain": [
       "u'/scale_wlg_nobackup/filesets/nobackup/niwa00013/williamsjh/cylc-run/u-bl000/share/data/History_Data'"
      ]
     },
     "execution_count": 19,
     "metadata": {},
     "output_type": "execute_result"
    }
   ],
   "source": [
    "pwd"
   ]
  },
  {
   "cell_type": "code",
   "execution_count": 8,
   "metadata": {},
   "outputs": [
    {
     "name": "stdout",
     "output_type": "stream",
     "text": [
      "bl274a.pm1956apr.pp\n",
      "%%%%%%%%%%%%%%%%%%%%%%%%%%%%%%%\n",
      "* (SELECT) Module Information *\n",
      "%%%%%%%%%%%%%%%%%%%%%%%%%%%%%%%\n",
      "mule       : /nesi/nobackup/niwa00013/williamsjh/miniconda2/envs/master/lib/python2.7/site-packages/mule-2018.7.1-py2.7.egg/mule/__init__.pyc (version 2018.07.1)\n",
      "um_utils   : /nesi/nobackup/niwa00013/williamsjh/miniconda2/envs/master/lib/python2.7/site-packages/um_utils-2018.7.1-py2.7.egg/um_utils/__init__.pyc (version 2018.07.1)\n",
      "mo_pack    : /nesi/nobackup/niwa00013/williamsjh/miniconda2/envs/master/lib/python2.7/site-packages/mo_pack/__init__.pyc (version 0.2.0)\n",
      "\n",
      "bl274a.pm1956aug.pp\n",
      "%%%%%%%%%%%%%%%%%%%%%%%%%%%%%%%\n",
      "* (SELECT) Module Information *\n",
      "%%%%%%%%%%%%%%%%%%%%%%%%%%%%%%%\n",
      "mule       : /nesi/nobackup/niwa00013/williamsjh/miniconda2/envs/master/lib/python2.7/site-packages/mule-2018.7.1-py2.7.egg/mule/__init__.pyc (version 2018.07.1)\n",
      "um_utils   : /nesi/nobackup/niwa00013/williamsjh/miniconda2/envs/master/lib/python2.7/site-packages/um_utils-2018.7.1-py2.7.egg/um_utils/__init__.pyc (version 2018.07.1)\n",
      "mo_pack    : /nesi/nobackup/niwa00013/williamsjh/miniconda2/envs/master/lib/python2.7/site-packages/mo_pack/__init__.pyc (version 0.2.0)\n",
      "\n",
      "bl274a.pm1956feb.pp\n",
      "%%%%%%%%%%%%%%%%%%%%%%%%%%%%%%%\n",
      "* (SELECT) Module Information *\n",
      "%%%%%%%%%%%%%%%%%%%%%%%%%%%%%%%\n",
      "mule       : /nesi/nobackup/niwa00013/williamsjh/miniconda2/envs/master/lib/python2.7/site-packages/mule-2018.7.1-py2.7.egg/mule/__init__.pyc (version 2018.07.1)\n",
      "um_utils   : /nesi/nobackup/niwa00013/williamsjh/miniconda2/envs/master/lib/python2.7/site-packages/um_utils-2018.7.1-py2.7.egg/um_utils/__init__.pyc (version 2018.07.1)\n",
      "mo_pack    : /nesi/nobackup/niwa00013/williamsjh/miniconda2/envs/master/lib/python2.7/site-packages/mo_pack/__init__.pyc (version 0.2.0)\n",
      "\n",
      "bl274a.pm1956jan.pp\n",
      "%%%%%%%%%%%%%%%%%%%%%%%%%%%%%%%\n",
      "* (SELECT) Module Information *\n",
      "%%%%%%%%%%%%%%%%%%%%%%%%%%%%%%%\n",
      "mule       : /nesi/nobackup/niwa00013/williamsjh/miniconda2/envs/master/lib/python2.7/site-packages/mule-2018.7.1-py2.7.egg/mule/__init__.pyc (version 2018.07.1)\n",
      "um_utils   : /nesi/nobackup/niwa00013/williamsjh/miniconda2/envs/master/lib/python2.7/site-packages/um_utils-2018.7.1-py2.7.egg/um_utils/__init__.pyc (version 2018.07.1)\n",
      "mo_pack    : /nesi/nobackup/niwa00013/williamsjh/miniconda2/envs/master/lib/python2.7/site-packages/mo_pack/__init__.pyc (version 0.2.0)\n",
      "\n",
      "bl274a.pm1956jul.pp\n",
      "%%%%%%%%%%%%%%%%%%%%%%%%%%%%%%%\n",
      "* (SELECT) Module Information *\n",
      "%%%%%%%%%%%%%%%%%%%%%%%%%%%%%%%\n",
      "mule       : /nesi/nobackup/niwa00013/williamsjh/miniconda2/envs/master/lib/python2.7/site-packages/mule-2018.7.1-py2.7.egg/mule/__init__.pyc (version 2018.07.1)\n",
      "um_utils   : /nesi/nobackup/niwa00013/williamsjh/miniconda2/envs/master/lib/python2.7/site-packages/um_utils-2018.7.1-py2.7.egg/um_utils/__init__.pyc (version 2018.07.1)\n",
      "mo_pack    : /nesi/nobackup/niwa00013/williamsjh/miniconda2/envs/master/lib/python2.7/site-packages/mo_pack/__init__.pyc (version 0.2.0)\n",
      "\n",
      "bl274a.pm1956jun.pp\n",
      "%%%%%%%%%%%%%%%%%%%%%%%%%%%%%%%\n",
      "* (SELECT) Module Information *\n",
      "%%%%%%%%%%%%%%%%%%%%%%%%%%%%%%%\n",
      "mule       : /nesi/nobackup/niwa00013/williamsjh/miniconda2/envs/master/lib/python2.7/site-packages/mule-2018.7.1-py2.7.egg/mule/__init__.pyc (version 2018.07.1)\n",
      "um_utils   : /nesi/nobackup/niwa00013/williamsjh/miniconda2/envs/master/lib/python2.7/site-packages/um_utils-2018.7.1-py2.7.egg/um_utils/__init__.pyc (version 2018.07.1)\n",
      "mo_pack    : /nesi/nobackup/niwa00013/williamsjh/miniconda2/envs/master/lib/python2.7/site-packages/mo_pack/__init__.pyc (version 0.2.0)\n",
      "\n",
      "bl274a.pm1956mar.pp\n",
      "%%%%%%%%%%%%%%%%%%%%%%%%%%%%%%%\n",
      "* (SELECT) Module Information *\n",
      "%%%%%%%%%%%%%%%%%%%%%%%%%%%%%%%\n",
      "mule       : /nesi/nobackup/niwa00013/williamsjh/miniconda2/envs/master/lib/python2.7/site-packages/mule-2018.7.1-py2.7.egg/mule/__init__.pyc (version 2018.07.1)\n",
      "um_utils   : /nesi/nobackup/niwa00013/williamsjh/miniconda2/envs/master/lib/python2.7/site-packages/um_utils-2018.7.1-py2.7.egg/um_utils/__init__.pyc (version 2018.07.1)\n",
      "mo_pack    : /nesi/nobackup/niwa00013/williamsjh/miniconda2/envs/master/lib/python2.7/site-packages/mo_pack/__init__.pyc (version 0.2.0)\n",
      "\n",
      "bl274a.pm1956may.pp\n",
      "%%%%%%%%%%%%%%%%%%%%%%%%%%%%%%%\n",
      "* (SELECT) Module Information *\n",
      "%%%%%%%%%%%%%%%%%%%%%%%%%%%%%%%\n",
      "mule       : /nesi/nobackup/niwa00013/williamsjh/miniconda2/envs/master/lib/python2.7/site-packages/mule-2018.7.1-py2.7.egg/mule/__init__.pyc (version 2018.07.1)\n",
      "um_utils   : /nesi/nobackup/niwa00013/williamsjh/miniconda2/envs/master/lib/python2.7/site-packages/um_utils-2018.7.1-py2.7.egg/um_utils/__init__.pyc (version 2018.07.1)\n",
      "mo_pack    : /nesi/nobackup/niwa00013/williamsjh/miniconda2/envs/master/lib/python2.7/site-packages/mo_pack/__init__.pyc (version 0.2.0)\n",
      "\n",
      "bl274a.pm1956nov.pp\n",
      "%%%%%%%%%%%%%%%%%%%%%%%%%%%%%%%\n",
      "* (SELECT) Module Information *\n",
      "%%%%%%%%%%%%%%%%%%%%%%%%%%%%%%%\n",
      "mule       : /nesi/nobackup/niwa00013/williamsjh/miniconda2/envs/master/lib/python2.7/site-packages/mule-2018.7.1-py2.7.egg/mule/__init__.pyc (version 2018.07.1)\n",
      "um_utils   : /nesi/nobackup/niwa00013/williamsjh/miniconda2/envs/master/lib/python2.7/site-packages/um_utils-2018.7.1-py2.7.egg/um_utils/__init__.pyc (version 2018.07.1)\n",
      "mo_pack    : /nesi/nobackup/niwa00013/williamsjh/miniconda2/envs/master/lib/python2.7/site-packages/mo_pack/__init__.pyc (version 0.2.0)\n",
      "\n",
      "bl274a.pm1956oct.pp\n",
      "%%%%%%%%%%%%%%%%%%%%%%%%%%%%%%%\n",
      "* (SELECT) Module Information *\n",
      "%%%%%%%%%%%%%%%%%%%%%%%%%%%%%%%\n",
      "mule       : /nesi/nobackup/niwa00013/williamsjh/miniconda2/envs/master/lib/python2.7/site-packages/mule-2018.7.1-py2.7.egg/mule/__init__.pyc (version 2018.07.1)\n",
      "um_utils   : /nesi/nobackup/niwa00013/williamsjh/miniconda2/envs/master/lib/python2.7/site-packages/um_utils-2018.7.1-py2.7.egg/um_utils/__init__.pyc (version 2018.07.1)\n",
      "mo_pack    : /nesi/nobackup/niwa00013/williamsjh/miniconda2/envs/master/lib/python2.7/site-packages/mo_pack/__init__.pyc (version 0.2.0)\n",
      "\n",
      "bl274a.pm1956sep.pp\n",
      "%%%%%%%%%%%%%%%%%%%%%%%%%%%%%%%\n",
      "* (SELECT) Module Information *\n",
      "%%%%%%%%%%%%%%%%%%%%%%%%%%%%%%%\n",
      "mule       : /nesi/nobackup/niwa00013/williamsjh/miniconda2/envs/master/lib/python2.7/site-packages/mule-2018.7.1-py2.7.egg/mule/__init__.pyc (version 2018.07.1)\n",
      "um_utils   : /nesi/nobackup/niwa00013/williamsjh/miniconda2/envs/master/lib/python2.7/site-packages/um_utils-2018.7.1-py2.7.egg/um_utils/__init__.pyc (version 2018.07.1)\n",
      "mo_pack    : /nesi/nobackup/niwa00013/williamsjh/miniconda2/envs/master/lib/python2.7/site-packages/mo_pack/__init__.pyc (version 0.2.0)\n",
      "\n"
     ]
    }
   ],
   "source": [
    "%%bash \n",
    "for file in *a.pm1956*.pp ;\n",
    "do echo $file\n",
    "mule-select $file lbtim122and24022/$file --include lbtim=122,24022\n",
    "done"
   ]
  },
  {
   "cell_type": "code",
   "execution_count": 9,
   "metadata": {},
   "outputs": [
    {
     "name": "stdout",
     "output_type": "stream",
     "text": [
      "climate-meaning/lbtim122and24022 directory already exists\n"
     ]
    }
   ],
   "source": [
    "os.chdir(base)\n",
    "import os\n",
    "if not os.path.exists(base+'/climate-meaning/lbtim122and24022'):\n",
    "    print('creating '+'climate-meaning/lbtim122and24022')\n",
    "    os.makedirs(base+'climate-meaning/lbtim122and24022')\n",
    "else:\n",
    "    print('climate-meaning/lbtim122and24022 directory already exists')"
   ]
  },
  {
   "cell_type": "code",
   "execution_count": 10,
   "metadata": {},
   "outputs": [
    {
     "name": "stdout",
     "output_type": "stream",
     "text": [
      "1953\n"
     ]
    },
    {
     "name": "stderr",
     "output_type": "stream",
     "text": [
      "/nesi/nobackup/niwa00013/williamsjh/miniconda2/envs/master/lib/python2.7/site-packages/iris/fileformats/rules.py:914: UserWarning: Unable to create instance of HybridHeightFactory. The file(s) ['bl274a.pm1954may.pp', 'bl274a.pm1953dec.pp', 'bl274a.pm1954feb.pp', 'bl274a.pm1954sep.pp', 'bl274a.pm1954nov.pp', 'bl274a.pm1954jun.pp', 'bl274a.pm1954aug.pp', 'bl274a.pm1954oct.pp', 'bl274a.pm1954jul.pp', 'bl274a.pm1954apr.pp', 'bl274a.pm1954jan.pp', 'bl274a.pm1954mar.pp'] don't contain field(s) for 'orography'.\n",
      "  factory=factory_name))\n"
     ]
    },
    {
     "name": "stdout",
     "output_type": "stream",
     "text": [
      "['*pm1953dec*.pp', '*pm1954jan*.pp', '*pm1954feb*.pp', '*pm1954mar*.pp', '*pm1954apr*.pp', '*pm1954may*.pp', '*pm1954jun*.pp', '*pm1954jul*.pp', '*pm1954aug*.pp', '*pm1954sep*.pp', '*pm1954oct*.pp', '*pm1954nov*.pp']\n",
      "now saving bl274a.py1954ann.pp\n",
      "1954\n"
     ]
    },
    {
     "name": "stderr",
     "output_type": "stream",
     "text": [
      "/nesi/nobackup/niwa00013/williamsjh/miniconda2/envs/master/lib/python2.7/site-packages/iris/fileformats/rules.py:914: UserWarning: Unable to create instance of HybridHeightFactory. The file(s) ['bl274a.pm1955feb.pp', 'bl274a.pm1955aug.pp', 'bl274a.pm1955may.pp', 'bl274a.pm1955sep.pp', 'bl274a.pm1955jul.pp', 'bl274a.pm1955mar.pp', 'bl274a.pm1955jan.pp', 'bl274a.pm1955apr.pp', 'bl274a.pm1955nov.pp', 'bl274a.pm1955jun.pp', 'bl274a.pm1954dec.pp', 'bl274a.pm1955oct.pp'] don't contain field(s) for 'orography'.\n",
      "  factory=factory_name))\n"
     ]
    },
    {
     "name": "stdout",
     "output_type": "stream",
     "text": [
      "['*pm1954dec*.pp', '*pm1955jan*.pp', '*pm1955feb*.pp', '*pm1955mar*.pp', '*pm1955apr*.pp', '*pm1955may*.pp', '*pm1955jun*.pp', '*pm1955jul*.pp', '*pm1955aug*.pp', '*pm1955sep*.pp', '*pm1955oct*.pp', '*pm1955nov*.pp']\n",
      "now saving bl274a.py1955ann.pp\n",
      "1955\n"
     ]
    },
    {
     "name": "stderr",
     "output_type": "stream",
     "text": [
      "/nesi/nobackup/niwa00013/williamsjh/miniconda2/envs/master/lib/python2.7/site-packages/iris/fileformats/rules.py:914: UserWarning: Unable to create instance of HybridHeightFactory. The file(s) ['bl274a.pm1956may.pp', 'bl274a.pm1956nov.pp', 'bl274a.pm1956jun.pp', 'bl274a.pm1956jul.pp', 'bl274a.pm1956jan.pp', 'bl274a.pm1956feb.pp', 'bl274a.pm1956aug.pp', 'bl274a.pm1956apr.pp', 'bl274a.pm1956mar.pp', 'bl274a.pm1956oct.pp', 'bl274a.pm1956sep.pp', 'bl274a.pm1955dec.pp'] don't contain field(s) for 'orography'.\n",
      "  factory=factory_name))\n"
     ]
    },
    {
     "name": "stdout",
     "output_type": "stream",
     "text": [
      "['*pm1955dec*.pp', '*pm1956jan*.pp', '*pm1956feb*.pp', '*pm1956mar*.pp', '*pm1956apr*.pp', '*pm1956may*.pp', '*pm1956jun*.pp', '*pm1956jul*.pp', '*pm1956aug*.pp', '*pm1956sep*.pp', '*pm1956oct*.pp', '*pm1956nov*.pp']\n",
      "now saving bl274a.py1956ann.pp\n"
     ]
    },
    {
     "name": "stderr",
     "output_type": "stream",
     "text": [
      "Exception in thread <biggus._init.ProducerNode object at 0x2aab11e74e90>:\n",
      "Traceback (most recent call last):\n",
      "  File \"/nesi/nobackup/niwa00013/williamsjh/miniconda2/envs/master/lib/python2.7/threading.py\", line 801, in __bootstrap_inner\n",
      "    self.run()\n",
      "  File \"/nesi/nobackup/niwa00013/williamsjh/miniconda2/envs/master/lib/python2.7/threading.py\", line 754, in run\n",
      "    self.__target(*self.__args, **self.__kwargs)\n",
      "  File \"/nesi/nobackup/niwa00013/williamsjh/miniconda2/envs/master/lib/python2.7/site-packages/biggus/_init.py\", line 188, in run\n",
      "    data = self.array[key].masked_array()\n",
      "  File \"/nesi/nobackup/niwa00013/williamsjh/miniconda2/envs/master/lib/python2.7/site-packages/biggus/_init.py\", line 1820, in masked_array\n",
      "    masked_array = self._stack[index].masked_array()\n",
      "  File \"/nesi/nobackup/niwa00013/williamsjh/miniconda2/envs/master/lib/python2.7/site-packages/biggus/_init.py\", line 1471, in masked_array\n",
      "    array = self._apply_keys()\n",
      "  File \"/nesi/nobackup/niwa00013/williamsjh/miniconda2/envs/master/lib/python2.7/site-packages/biggus/_init.py\", line 1525, in _apply_keys\n",
      "    array = self.concrete[...]\n",
      "  File \"/nesi/nobackup/niwa00013/williamsjh/miniconda2/envs/master/lib/python2.7/site-packages/iris/fileformats/pp.py\", line 856, in __getitem__\n",
      "    self.mdi, self.mask)\n",
      "  File \"/nesi/nobackup/niwa00013/williamsjh/miniconda2/envs/master/lib/python2.7/site-packages/iris/fileformats/pp.py\", line 1011, in _data_bytes_to_shaped_array\n",
      "    data.shape = data_shape\n",
      "ValueError: total size of new array must be unchanged\n",
      "\n"
     ]
    },
    {
     "ename": "Exception",
     "evalue": "error during evaluation",
     "output_type": "error",
     "traceback": [
      "\u001b[0;31m---------------------------------------------------------------------------\u001b[0m",
      "\u001b[0;31mException\u001b[0m                                 Traceback (most recent call last)",
      "\u001b[0;32m<ipython-input-10-a6fd1b1be395>\u001b[0m in \u001b[0;36m<module>\u001b[0;34m()\u001b[0m\n\u001b[1;32m     17\u001b[0m \u001b[0;34m\u001b[0m\u001b[0m\n\u001b[1;32m     18\u001b[0m     \u001b[0;32mprint\u001b[0m \u001b[0;34m'now saving '\u001b[0m\u001b[0;34m+\u001b[0m\u001b[0moutfile\u001b[0m\u001b[0;34m\u001b[0m\u001b[0m\n\u001b[0;32m---> 19\u001b[0;31m     \u001b[0miris\u001b[0m\u001b[0;34m.\u001b[0m\u001b[0msave\u001b[0m\u001b[0;34m(\u001b[0m\u001b[0mfoo\u001b[0m\u001b[0;34m,\u001b[0m \u001b[0mbase\u001b[0m\u001b[0;34m+\u001b[0m\u001b[0;34m'/climate-meaning/lbtim122and24022/'\u001b[0m\u001b[0;34m+\u001b[0m\u001b[0moutfile\u001b[0m\u001b[0;34m)\u001b[0m\u001b[0;34m\u001b[0m\u001b[0m\n\u001b[0m\u001b[1;32m     20\u001b[0m \u001b[0;34m\u001b[0m\u001b[0m\n\u001b[1;32m     21\u001b[0m \u001b[0;34m\u001b[0m\u001b[0m\n",
      "\u001b[0;32m/nesi/nobackup/niwa00013/williamsjh/miniconda2/envs/master/lib/python2.7/site-packages/iris/io/__init__.pyc\u001b[0m in \u001b[0;36msave\u001b[0;34m(source, target, saver, **kwargs)\u001b[0m\n\u001b[1;32m    417\u001b[0m                 \u001b[0;32mif\u001b[0m \u001b[0mi\u001b[0m \u001b[0;34m!=\u001b[0m \u001b[0;36m0\u001b[0m\u001b[0;34m:\u001b[0m\u001b[0;34m\u001b[0m\u001b[0m\n\u001b[1;32m    418\u001b[0m                     \u001b[0mkwargs\u001b[0m\u001b[0;34m[\u001b[0m\u001b[0;34m'append'\u001b[0m\u001b[0;34m]\u001b[0m \u001b[0;34m=\u001b[0m \u001b[0mTrue\u001b[0m\u001b[0;34m\u001b[0m\u001b[0m\n\u001b[0;32m--> 419\u001b[0;31m                 \u001b[0msaver\u001b[0m\u001b[0;34m(\u001b[0m\u001b[0mcube\u001b[0m\u001b[0;34m,\u001b[0m \u001b[0mtarget\u001b[0m\u001b[0;34m,\u001b[0m \u001b[0;34m**\u001b[0m\u001b[0mkwargs\u001b[0m\u001b[0;34m)\u001b[0m\u001b[0;34m\u001b[0m\u001b[0m\n\u001b[0m\u001b[1;32m    420\u001b[0m         \u001b[0;31m# Netcdf saver.\u001b[0m\u001b[0;34m\u001b[0m\u001b[0;34m\u001b[0m\u001b[0m\n\u001b[1;32m    421\u001b[0m         \u001b[0;32melse\u001b[0m\u001b[0;34m:\u001b[0m\u001b[0;34m\u001b[0m\u001b[0m\n",
      "\u001b[0;32m/nesi/nobackup/niwa00013/williamsjh/miniconda2/envs/master/lib/python2.7/site-packages/iris/fileformats/pp.pyc\u001b[0m in \u001b[0;36msave\u001b[0;34m(cube, target, append, field_coords)\u001b[0m\n\u001b[1;32m   2066\u001b[0m     \"\"\"\n\u001b[1;32m   2067\u001b[0m     \u001b[0mfields\u001b[0m \u001b[0;34m=\u001b[0m \u001b[0mas_fields\u001b[0m\u001b[0;34m(\u001b[0m\u001b[0mcube\u001b[0m\u001b[0;34m,\u001b[0m \u001b[0mfield_coords\u001b[0m\u001b[0;34m,\u001b[0m \u001b[0mtarget\u001b[0m\u001b[0;34m)\u001b[0m\u001b[0;34m\u001b[0m\u001b[0m\n\u001b[0;32m-> 2068\u001b[0;31m     \u001b[0msave_fields\u001b[0m\u001b[0;34m(\u001b[0m\u001b[0mfields\u001b[0m\u001b[0;34m,\u001b[0m \u001b[0mtarget\u001b[0m\u001b[0;34m,\u001b[0m \u001b[0mappend\u001b[0m\u001b[0;34m=\u001b[0m\u001b[0mappend\u001b[0m\u001b[0;34m)\u001b[0m\u001b[0;34m\u001b[0m\u001b[0m\n\u001b[0m\u001b[1;32m   2069\u001b[0m \u001b[0;34m\u001b[0m\u001b[0m\n\u001b[1;32m   2070\u001b[0m \u001b[0;34m\u001b[0m\u001b[0m\n",
      "\u001b[0;32m/nesi/nobackup/niwa00013/williamsjh/miniconda2/envs/master/lib/python2.7/site-packages/iris/fileformats/pp.pyc\u001b[0m in \u001b[0;36msave_fields\u001b[0;34m(fields, target, append)\u001b[0m\n\u001b[1;32m   2270\u001b[0m     \u001b[0;32mtry\u001b[0m\u001b[0;34m:\u001b[0m\u001b[0;34m\u001b[0m\u001b[0m\n\u001b[1;32m   2271\u001b[0m         \u001b[0;31m# Save each field\u001b[0m\u001b[0;34m\u001b[0m\u001b[0;34m\u001b[0m\u001b[0m\n\u001b[0;32m-> 2272\u001b[0;31m         \u001b[0;32mfor\u001b[0m \u001b[0mpp_field\u001b[0m \u001b[0;32min\u001b[0m \u001b[0mfields\u001b[0m\u001b[0;34m:\u001b[0m\u001b[0;34m\u001b[0m\u001b[0m\n\u001b[0m\u001b[1;32m   2273\u001b[0m             \u001b[0;31m# Write to file\u001b[0m\u001b[0;34m\u001b[0m\u001b[0;34m\u001b[0m\u001b[0m\n\u001b[1;32m   2274\u001b[0m             \u001b[0mpp_field\u001b[0m\u001b[0;34m.\u001b[0m\u001b[0msave\u001b[0m\u001b[0;34m(\u001b[0m\u001b[0mpp_file\u001b[0m\u001b[0;34m)\u001b[0m\u001b[0;34m\u001b[0m\u001b[0m\n",
      "\u001b[0;32m/nesi/nobackup/niwa00013/williamsjh/miniconda2/envs/master/lib/python2.7/site-packages/iris/fileformats/pp.pyc\u001b[0m in \u001b[0;36m<genexpr>\u001b[0;34m((cube, field))\u001b[0m\n\u001b[1;32m   2208\u001b[0m \u001b[0;34m\u001b[0m\u001b[0m\n\u001b[1;32m   2209\u001b[0m     \"\"\"\n\u001b[0;32m-> 2210\u001b[0;31m     return (field for cube, field in as_pairs(cube, field_coords=field_coords,\n\u001b[0m\u001b[1;32m   2211\u001b[0m                                               target=target))\n\u001b[1;32m   2212\u001b[0m \u001b[0;34m\u001b[0m\u001b[0m\n",
      "\u001b[0;32m/nesi/nobackup/niwa00013/williamsjh/miniconda2/envs/master/lib/python2.7/site-packages/iris/fileformats/pp.pyc\u001b[0m in \u001b[0;36mas_pairs\u001b[0;34m(cube, field_coords, target)\u001b[0m\n\u001b[1;32m   2169\u001b[0m \u001b[0;34m\u001b[0m\u001b[0m\n\u001b[1;32m   2170\u001b[0m         \u001b[0;31m# Set the data\u001b[0m\u001b[0;34m\u001b[0m\u001b[0;34m\u001b[0m\u001b[0m\n\u001b[0;32m-> 2171\u001b[0;31m         \u001b[0mpp_field\u001b[0m\u001b[0;34m.\u001b[0m\u001b[0mdata\u001b[0m \u001b[0;34m=\u001b[0m \u001b[0mslice2D\u001b[0m\u001b[0;34m.\u001b[0m\u001b[0mdata\u001b[0m\u001b[0;34m\u001b[0m\u001b[0m\n\u001b[0m\u001b[1;32m   2172\u001b[0m \u001b[0;34m\u001b[0m\u001b[0m\n\u001b[1;32m   2173\u001b[0m         \u001b[0;31m# Run the PP save rules on the slice2D, to fill the PPField,\u001b[0m\u001b[0;34m\u001b[0m\u001b[0;34m\u001b[0m\u001b[0m\n",
      "\u001b[0;32m/nesi/nobackup/niwa00013/williamsjh/miniconda2/envs/master/lib/python2.7/site-packages/iris/cube.pyc\u001b[0m in \u001b[0;36mdata\u001b[0;34m(self)\u001b[0m\n\u001b[1;32m   1499\u001b[0m         \u001b[0;32mif\u001b[0m \u001b[0;32mnot\u001b[0m \u001b[0misinstance\u001b[0m\u001b[0;34m(\u001b[0m\u001b[0mdata\u001b[0m\u001b[0;34m,\u001b[0m \u001b[0mnp\u001b[0m\u001b[0;34m.\u001b[0m\u001b[0mndarray\u001b[0m\u001b[0;34m)\u001b[0m\u001b[0;34m:\u001b[0m\u001b[0;34m\u001b[0m\u001b[0m\n\u001b[1;32m   1500\u001b[0m             \u001b[0;32mtry\u001b[0m\u001b[0;34m:\u001b[0m\u001b[0;34m\u001b[0m\u001b[0m\n\u001b[0;32m-> 1501\u001b[0;31m                 \u001b[0mdata\u001b[0m \u001b[0;34m=\u001b[0m \u001b[0mdata\u001b[0m\u001b[0;34m.\u001b[0m\u001b[0mmasked_array\u001b[0m\u001b[0;34m(\u001b[0m\u001b[0;34m)\u001b[0m\u001b[0;34m\u001b[0m\u001b[0m\n\u001b[0m\u001b[1;32m   1502\u001b[0m             \u001b[0;32mexcept\u001b[0m \u001b[0mMemoryError\u001b[0m\u001b[0;34m:\u001b[0m\u001b[0;34m\u001b[0m\u001b[0m\n\u001b[1;32m   1503\u001b[0m                 \u001b[0mmsg\u001b[0m \u001b[0;34m=\u001b[0m \u001b[0;34m\"Failed to create the cube's data as there was not\"\u001b[0m\u001b[0;31m \u001b[0m\u001b[0;31m\\\u001b[0m\u001b[0;34m\u001b[0m\u001b[0m\n",
      "\u001b[0;32m/nesi/nobackup/niwa00013/williamsjh/miniconda2/envs/master/lib/python2.7/site-packages/biggus/_init.pyc\u001b[0m in \u001b[0;36mmasked_array\u001b[0;34m(self)\u001b[0m\n\u001b[1;32m   2617\u001b[0m \u001b[0;34m\u001b[0m\u001b[0m\n\u001b[1;32m   2618\u001b[0m     \u001b[0;32mdef\u001b[0m \u001b[0mmasked_array\u001b[0m\u001b[0;34m(\u001b[0m\u001b[0mself\u001b[0m\u001b[0;34m)\u001b[0m\u001b[0;34m:\u001b[0m\u001b[0;34m\u001b[0m\u001b[0m\n\u001b[0;32m-> 2619\u001b[0;31m         \u001b[0mresult\u001b[0m\u001b[0;34m,\u001b[0m \u001b[0;34m=\u001b[0m \u001b[0mbiggus\u001b[0m\u001b[0;34m.\u001b[0m\u001b[0mengine\u001b[0m\u001b[0;34m.\u001b[0m\u001b[0mmasked_arrays\u001b[0m\u001b[0;34m(\u001b[0m\u001b[0mself\u001b[0m\u001b[0;34m)\u001b[0m\u001b[0;34m\u001b[0m\u001b[0m\n\u001b[0m\u001b[1;32m   2620\u001b[0m         \u001b[0;32mreturn\u001b[0m \u001b[0mresult\u001b[0m\u001b[0;34m\u001b[0m\u001b[0m\n\u001b[1;32m   2621\u001b[0m \u001b[0;34m\u001b[0m\u001b[0m\n",
      "\u001b[0;32m/nesi/nobackup/niwa00013/williamsjh/miniconda2/envs/master/lib/python2.7/site-packages/biggus/_init.pyc\u001b[0m in \u001b[0;36mmasked_arrays\u001b[0;34m(self, *arrays)\u001b[0m\n\u001b[1;32m    435\u001b[0m \u001b[0;34m\u001b[0m\u001b[0m\n\u001b[1;32m    436\u001b[0m     \u001b[0;32mdef\u001b[0m \u001b[0mmasked_arrays\u001b[0m\u001b[0;34m(\u001b[0m\u001b[0mself\u001b[0m\u001b[0;34m,\u001b[0m \u001b[0;34m*\u001b[0m\u001b[0marrays\u001b[0m\u001b[0;34m)\u001b[0m\u001b[0;34m:\u001b[0m\u001b[0;34m\u001b[0m\u001b[0m\n\u001b[0;32m--> 437\u001b[0;31m         \u001b[0;32mreturn\u001b[0m \u001b[0mself\u001b[0m\u001b[0;34m.\u001b[0m\u001b[0m_evaluate\u001b[0m\u001b[0;34m(\u001b[0m\u001b[0marrays\u001b[0m\u001b[0;34m,\u001b[0m \u001b[0mTrue\u001b[0m\u001b[0;34m)\u001b[0m\u001b[0;34m\u001b[0m\u001b[0m\n\u001b[0m\u001b[1;32m    438\u001b[0m \u001b[0;34m\u001b[0m\u001b[0m\n\u001b[1;32m    439\u001b[0m     \u001b[0;32mdef\u001b[0m \u001b[0mndarrays\u001b[0m\u001b[0;34m(\u001b[0m\u001b[0mself\u001b[0m\u001b[0;34m,\u001b[0m \u001b[0;34m*\u001b[0m\u001b[0marrays\u001b[0m\u001b[0;34m)\u001b[0m\u001b[0;34m:\u001b[0m\u001b[0;34m\u001b[0m\u001b[0m\n",
      "\u001b[0;32m/nesi/nobackup/niwa00013/williamsjh/miniconda2/envs/master/lib/python2.7/site-packages/biggus/_init.pyc\u001b[0m in \u001b[0;36m_evaluate\u001b[0;34m(self, arrays, masked)\u001b[0m\n\u001b[1;32m    429\u001b[0m         \u001b[0mall_results\u001b[0m \u001b[0;34m=\u001b[0m \u001b[0;34m[\u001b[0m\u001b[0mNone\u001b[0m\u001b[0;34m]\u001b[0m \u001b[0;34m*\u001b[0m \u001b[0mlen\u001b[0m\u001b[0;34m(\u001b[0m\u001b[0marrays\u001b[0m\u001b[0;34m)\u001b[0m\u001b[0;34m\u001b[0m\u001b[0m\n\u001b[1;32m    430\u001b[0m         \u001b[0;32mfor\u001b[0m \u001b[0mgroup\u001b[0m \u001b[0;32min\u001b[0m \u001b[0mgroups\u001b[0m\u001b[0;34m:\u001b[0m\u001b[0;34m\u001b[0m\u001b[0m\n\u001b[0;32m--> 431\u001b[0;31m             \u001b[0mndarrays\u001b[0m \u001b[0;34m=\u001b[0m \u001b[0mgroup\u001b[0m\u001b[0;34m.\u001b[0m\u001b[0mevaluate\u001b[0m\u001b[0;34m(\u001b[0m\u001b[0mmasked\u001b[0m\u001b[0;34m)\u001b[0m\u001b[0;34m\u001b[0m\u001b[0m\n\u001b[0m\u001b[1;32m    432\u001b[0m             \u001b[0;32mfor\u001b[0m \u001b[0mi\u001b[0m\u001b[0;34m,\u001b[0m \u001b[0mndarray\u001b[0m \u001b[0;32min\u001b[0m \u001b[0mzip\u001b[0m\u001b[0;34m(\u001b[0m\u001b[0mgroup\u001b[0m\u001b[0;34m.\u001b[0m\u001b[0mindices\u001b[0m\u001b[0;34m,\u001b[0m \u001b[0mndarrays\u001b[0m\u001b[0;34m)\u001b[0m\u001b[0;34m:\u001b[0m\u001b[0;34m\u001b[0m\u001b[0m\n\u001b[1;32m    433\u001b[0m                 \u001b[0mall_results\u001b[0m\u001b[0;34m[\u001b[0m\u001b[0mi\u001b[0m\u001b[0;34m]\u001b[0m \u001b[0;34m=\u001b[0m \u001b[0mndarray\u001b[0m\u001b[0;34m\u001b[0m\u001b[0m\n",
      "\u001b[0;32m/nesi/nobackup/niwa00013/williamsjh/miniconda2/envs/master/lib/python2.7/site-packages/biggus/_init.pyc\u001b[0m in \u001b[0;36mevaluate\u001b[0;34m(self, masked)\u001b[0m\n\u001b[1;32m    415\u001b[0m             \u001b[0mresults\u001b[0m \u001b[0;34m=\u001b[0m \u001b[0;34m[\u001b[0m\u001b[0mnode\u001b[0m\u001b[0;34m.\u001b[0m\u001b[0mresult\u001b[0m \u001b[0;32mfor\u001b[0m \u001b[0mnode\u001b[0m \u001b[0;32min\u001b[0m \u001b[0mresult_nodes\u001b[0m\u001b[0;34m]\u001b[0m\u001b[0;34m\u001b[0m\u001b[0m\n\u001b[1;32m    416\u001b[0m             \u001b[0;32mif\u001b[0m \u001b[0many\u001b[0m\u001b[0;34m(\u001b[0m\u001b[0mresult\u001b[0m \u001b[0;32mis\u001b[0m \u001b[0mNone\u001b[0m \u001b[0;32mfor\u001b[0m \u001b[0mresult\u001b[0m \u001b[0;32min\u001b[0m \u001b[0mresults\u001b[0m\u001b[0;34m)\u001b[0m\u001b[0;34m:\u001b[0m\u001b[0;34m\u001b[0m\u001b[0m\n\u001b[0;32m--> 417\u001b[0;31m                 \u001b[0;32mraise\u001b[0m \u001b[0mException\u001b[0m\u001b[0;34m(\u001b[0m\u001b[0;34m'error during evaluation'\u001b[0m\u001b[0;34m)\u001b[0m\u001b[0;34m\u001b[0m\u001b[0m\n\u001b[0m\u001b[1;32m    418\u001b[0m             \u001b[0;32mreturn\u001b[0m \u001b[0mresults\u001b[0m\u001b[0;34m\u001b[0m\u001b[0m\n\u001b[1;32m    419\u001b[0m \u001b[0;34m\u001b[0m\u001b[0m\n",
      "\u001b[0;31mException\u001b[0m: error during evaluation"
     ]
    }
   ],
   "source": [
    "os.chdir(base+'lbtim122and24022/')\n",
    "\n",
    "for i in range(3,6,1):\n",
    "    year0 = 1950\n",
    "    year = year0 + i\n",
    "    print year\n",
    "    foo = iris.cube.CubeList()\n",
    "    files=list(braceexpand('*pm'+'{'+str(year0+i)+'dec'+','+str(year0+i+1)+\n",
    "                           '{jan,feb,mar,apr,may,jun,jul,aug,sep,oct,nov}}*.pp'))\n",
    "    cubes = iris.load(files)\n",
    "    print files                           \n",
    "    for cube in cubes:\n",
    "        newcube = cube.collapsed('time', iris.analysis.MEAN)\n",
    "        newcube.cell_methods = (iris.coords.CellMethod('mean', 'time', intervals='1 hour'),)\n",
    "        foo.append(newcube)\n",
    "        outfile = suite[2:]+'a.py'+str(year0+i+1)+'ann.pp'\n",
    "    \n",
    "    print 'now saving '+outfile\n",
    "    iris.save(foo, base+'/climate-meaning/lbtim122and24022/'+outfile)\n",
    "        \n",
    "        "
   ]
  },
  {
   "cell_type": "code",
   "execution_count": null,
   "metadata": {},
   "outputs": [],
   "source": [
    "os.chdir(base+'/climate-meaning/lbtim122and24022/')\n",
    "         \n"
   ]
  },
  {
   "cell_type": "code",
   "execution_count": null,
   "metadata": {},
   "outputs": [],
   "source": [
    "pwd"
   ]
  },
  {
   "cell_type": "code",
   "execution_count": null,
   "metadata": {},
   "outputs": [],
   "source": [
    "import glob"
   ]
  },
  {
   "cell_type": "code",
   "execution_count": null,
   "metadata": {},
   "outputs": [],
   "source": [
    "import mule.pp as pp"
   ]
  },
  {
   "cell_type": "code",
   "execution_count": null,
   "metadata": {},
   "outputs": [],
   "source": [
    "for file in sorted(glob.glob('*.pp')):\n",
    "\n",
    "    fields=pp.fields_from_pp_file(file)\n",
    "\n",
    "    for i in range(len(fields)):\n",
    "        if str(fields[i].lbuser4).startswith('19') and len(str(fields[i].lbuser4)) == 5:\n",
    "            #print fields[i].lbuser4\n",
    "            #print 'setting lbtim in STASH code '+str(fields[i].lbuser4)+' to 24022'\n",
    "            fields[i].lbtim = 24022\n",
    "            \n",
    "    pp.fields_to_pp_file('new-'+file,fields)\n"
   ]
  },
  {
   "cell_type": "code",
   "execution_count": null,
   "metadata": {},
   "outputs": [],
   "source": [
    "%%bash\n",
    "rename new-b b new-b*"
   ]
  },
  {
   "cell_type": "code",
   "execution_count": null,
   "metadata": {},
   "outputs": [],
   "source": []
  },
  {
   "cell_type": "code",
   "execution_count": null,
   "metadata": {},
   "outputs": [],
   "source": []
  },
  {
   "cell_type": "code",
   "execution_count": null,
   "metadata": {},
   "outputs": [],
   "source": []
  }
 ],
 "metadata": {
  "kernelspec": {
   "display_name": "Python 2",
   "language": "python",
   "name": "python2"
  },
  "language_info": {
   "codemirror_mode": {
    "name": "ipython",
    "version": 2
   },
   "file_extension": ".py",
   "mimetype": "text/x-python",
   "name": "python",
   "nbconvert_exporter": "python",
   "pygments_lexer": "ipython2",
   "version": "2.7.11"
  }
 },
 "nbformat": 4,
 "nbformat_minor": 2
}

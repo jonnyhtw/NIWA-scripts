{
 "cells": [
  {
   "cell_type": "code",
   "execution_count": 1,
   "metadata": {},
   "outputs": [],
   "source": [
    "import cartopy.crs as ccrs\n",
    "import matplotlib\n",
    "import matplotlib.pyplot as plt\n",
    "import iris\n",
    "import iris.plot as iplt\n",
    "import iris.quickplot as qplt\n",
    "import numpy as np\n",
    "import datetime\n",
    "from iris.time import PartialDateTime\n",
    "import iris.analysis\n",
    "import netCDF4\n",
    "from netCDF4 import Dataset\n",
    "import os\n",
    "import numpy as np\n",
    "import matplotlib.pyplot as plt\n",
    "\n",
    "from braceexpand import braceexpand\n",
    "\n",
    "import numpy as np\n",
    "import  copy\n",
    "import matplotlib.pyplot as plt\n",
    "#import animatplot as amp -> only works with python 3\n",
    "from pylab import *\n",
    "import cartopy.crs as ccrs\n",
    "import iris.analysis.cartography\n",
    "import re\n",
    "from os import listdir\n",
    "import mule"
   ]
  },
  {
   "cell_type": "code",
   "execution_count": 21,
   "metadata": {},
   "outputs": [],
   "source": [
    "suite = 'u-bj476'"
   ]
  },
  {
   "cell_type": "code",
   "execution_count": 22,
   "metadata": {},
   "outputs": [],
   "source": [
    "base = '/home/williamsjh/cylc-run/'+suite+'/share/data/History_Data/'"
   ]
  },
  {
   "cell_type": "code",
   "execution_count": 23,
   "metadata": {},
   "outputs": [],
   "source": [
    "os.chdir(base)"
   ]
  },
  {
   "cell_type": "code",
   "execution_count": 24,
   "metadata": {},
   "outputs": [
    {
     "name": "stdout",
     "output_type": "stream",
     "text": [
      "lbtim122and24022 directory already exists\n"
     ]
    }
   ],
   "source": [
    "import os\n",
    "if not os.path.exists('lbtim122and24022'):\n",
    "    print('creating '+'lbtim122and24022'+' directory')\n",
    "    os.makedirs('lbtim122and24022')\n",
    "else:\n",
    "    print('lbtim122and24022 directory already exists')"
   ]
  },
  {
   "cell_type": "code",
   "execution_count": 25,
   "metadata": {},
   "outputs": [
    {
     "data": {
      "text/plain": [
       "u'/scale_wlg_nobackup/filesets/nobackup/niwa00013/williamsjh/cylc-run/u-bj476/share/data/History_Data'"
      ]
     },
     "execution_count": 25,
     "metadata": {},
     "output_type": "execute_result"
    }
   ],
   "source": [
    "pwd"
   ]
  },
  {
   "cell_type": "code",
   "execution_count": 26,
   "metadata": {},
   "outputs": [],
   "source": [
    "os.chdir(base)"
   ]
  },
  {
   "cell_type": "code",
   "execution_count": 27,
   "metadata": {},
   "outputs": [
    {
     "data": {
      "text/plain": [
       "u'/scale_wlg_nobackup/filesets/nobackup/niwa00013/williamsjh/cylc-run/u-bj476/share/data/History_Data'"
      ]
     },
     "execution_count": 27,
     "metadata": {},
     "output_type": "execute_result"
    }
   ],
   "source": [
    "pwd"
   ]
  },
  {
   "cell_type": "code",
   "execution_count": 28,
   "metadata": {},
   "outputs": [
    {
     "name": "stdout",
     "output_type": "stream",
     "text": [
      "bj476a.pm1985apr.pp\n",
      "%%%%%%%%%%%%%%%%%%%%%%%%%%%%%%%\n",
      "* (SELECT) Module Information *\n",
      "%%%%%%%%%%%%%%%%%%%%%%%%%%%%%%%\n",
      "mule       : /nesi/nobackup/niwa00013/williamsjh/miniconda2/envs/master/lib/python2.7/site-packages/mule-2018.7.1-py2.7.egg/mule/__init__.pyc (version 2018.07.1)\n",
      "um_utils   : /nesi/nobackup/niwa00013/williamsjh/miniconda2/envs/master/lib/python2.7/site-packages/um_utils-2018.7.1-py2.7.egg/um_utils/__init__.pyc (version 2018.07.1)\n",
      "mo_pack    : /nesi/nobackup/niwa00013/williamsjh/miniconda2/envs/master/lib/python2.7/site-packages/mo_pack/__init__.pyc (version 0.2.0)\n",
      "\n",
      "bj476a.pm1985aug.pp\n",
      "%%%%%%%%%%%%%%%%%%%%%%%%%%%%%%%\n",
      "* (SELECT) Module Information *\n",
      "%%%%%%%%%%%%%%%%%%%%%%%%%%%%%%%\n",
      "mule       : /nesi/nobackup/niwa00013/williamsjh/miniconda2/envs/master/lib/python2.7/site-packages/mule-2018.7.1-py2.7.egg/mule/__init__.pyc (version 2018.07.1)\n",
      "um_utils   : /nesi/nobackup/niwa00013/williamsjh/miniconda2/envs/master/lib/python2.7/site-packages/um_utils-2018.7.1-py2.7.egg/um_utils/__init__.pyc (version 2018.07.1)\n",
      "mo_pack    : /nesi/nobackup/niwa00013/williamsjh/miniconda2/envs/master/lib/python2.7/site-packages/mo_pack/__init__.pyc (version 0.2.0)\n",
      "\n",
      "bj476a.pm1985dec.pp\n",
      "%%%%%%%%%%%%%%%%%%%%%%%%%%%%%%%\n",
      "* (SELECT) Module Information *\n",
      "%%%%%%%%%%%%%%%%%%%%%%%%%%%%%%%\n",
      "mule       : /nesi/nobackup/niwa00013/williamsjh/miniconda2/envs/master/lib/python2.7/site-packages/mule-2018.7.1-py2.7.egg/mule/__init__.pyc (version 2018.07.1)\n",
      "um_utils   : /nesi/nobackup/niwa00013/williamsjh/miniconda2/envs/master/lib/python2.7/site-packages/um_utils-2018.7.1-py2.7.egg/um_utils/__init__.pyc (version 2018.07.1)\n",
      "mo_pack    : /nesi/nobackup/niwa00013/williamsjh/miniconda2/envs/master/lib/python2.7/site-packages/mo_pack/__init__.pyc (version 0.2.0)\n",
      "\n",
      "bj476a.pm1985feb.pp\n",
      "%%%%%%%%%%%%%%%%%%%%%%%%%%%%%%%\n",
      "* (SELECT) Module Information *\n",
      "%%%%%%%%%%%%%%%%%%%%%%%%%%%%%%%\n",
      "mule       : /nesi/nobackup/niwa00013/williamsjh/miniconda2/envs/master/lib/python2.7/site-packages/mule-2018.7.1-py2.7.egg/mule/__init__.pyc (version 2018.07.1)\n",
      "um_utils   : /nesi/nobackup/niwa00013/williamsjh/miniconda2/envs/master/lib/python2.7/site-packages/um_utils-2018.7.1-py2.7.egg/um_utils/__init__.pyc (version 2018.07.1)\n",
      "mo_pack    : /nesi/nobackup/niwa00013/williamsjh/miniconda2/envs/master/lib/python2.7/site-packages/mo_pack/__init__.pyc (version 0.2.0)\n",
      "\n",
      "bj476a.pm1985jan.pp\n",
      "%%%%%%%%%%%%%%%%%%%%%%%%%%%%%%%\n",
      "* (SELECT) Module Information *\n",
      "%%%%%%%%%%%%%%%%%%%%%%%%%%%%%%%\n",
      "mule       : /nesi/nobackup/niwa00013/williamsjh/miniconda2/envs/master/lib/python2.7/site-packages/mule-2018.7.1-py2.7.egg/mule/__init__.pyc (version 2018.07.1)\n",
      "um_utils   : /nesi/nobackup/niwa00013/williamsjh/miniconda2/envs/master/lib/python2.7/site-packages/um_utils-2018.7.1-py2.7.egg/um_utils/__init__.pyc (version 2018.07.1)\n",
      "mo_pack    : /nesi/nobackup/niwa00013/williamsjh/miniconda2/envs/master/lib/python2.7/site-packages/mo_pack/__init__.pyc (version 0.2.0)\n",
      "\n",
      "bj476a.pm1985jul.pp\n",
      "%%%%%%%%%%%%%%%%%%%%%%%%%%%%%%%\n",
      "* (SELECT) Module Information *\n",
      "%%%%%%%%%%%%%%%%%%%%%%%%%%%%%%%\n",
      "mule       : /nesi/nobackup/niwa00013/williamsjh/miniconda2/envs/master/lib/python2.7/site-packages/mule-2018.7.1-py2.7.egg/mule/__init__.pyc (version 2018.07.1)\n",
      "um_utils   : /nesi/nobackup/niwa00013/williamsjh/miniconda2/envs/master/lib/python2.7/site-packages/um_utils-2018.7.1-py2.7.egg/um_utils/__init__.pyc (version 2018.07.1)\n",
      "mo_pack    : /nesi/nobackup/niwa00013/williamsjh/miniconda2/envs/master/lib/python2.7/site-packages/mo_pack/__init__.pyc (version 0.2.0)\n",
      "\n",
      "bj476a.pm1985jun.pp\n",
      "%%%%%%%%%%%%%%%%%%%%%%%%%%%%%%%\n",
      "* (SELECT) Module Information *\n",
      "%%%%%%%%%%%%%%%%%%%%%%%%%%%%%%%\n",
      "mule       : /nesi/nobackup/niwa00013/williamsjh/miniconda2/envs/master/lib/python2.7/site-packages/mule-2018.7.1-py2.7.egg/mule/__init__.pyc (version 2018.07.1)\n",
      "um_utils   : /nesi/nobackup/niwa00013/williamsjh/miniconda2/envs/master/lib/python2.7/site-packages/um_utils-2018.7.1-py2.7.egg/um_utils/__init__.pyc (version 2018.07.1)\n",
      "mo_pack    : /nesi/nobackup/niwa00013/williamsjh/miniconda2/envs/master/lib/python2.7/site-packages/mo_pack/__init__.pyc (version 0.2.0)\n",
      "\n",
      "bj476a.pm1985mar.pp\n",
      "%%%%%%%%%%%%%%%%%%%%%%%%%%%%%%%\n",
      "* (SELECT) Module Information *\n",
      "%%%%%%%%%%%%%%%%%%%%%%%%%%%%%%%\n",
      "mule       : /nesi/nobackup/niwa00013/williamsjh/miniconda2/envs/master/lib/python2.7/site-packages/mule-2018.7.1-py2.7.egg/mule/__init__.pyc (version 2018.07.1)\n",
      "um_utils   : /nesi/nobackup/niwa00013/williamsjh/miniconda2/envs/master/lib/python2.7/site-packages/um_utils-2018.7.1-py2.7.egg/um_utils/__init__.pyc (version 2018.07.1)\n",
      "mo_pack    : /nesi/nobackup/niwa00013/williamsjh/miniconda2/envs/master/lib/python2.7/site-packages/mo_pack/__init__.pyc (version 0.2.0)\n",
      "\n",
      "bj476a.pm1985may.pp\n",
      "%%%%%%%%%%%%%%%%%%%%%%%%%%%%%%%\n",
      "* (SELECT) Module Information *\n",
      "%%%%%%%%%%%%%%%%%%%%%%%%%%%%%%%\n",
      "mule       : /nesi/nobackup/niwa00013/williamsjh/miniconda2/envs/master/lib/python2.7/site-packages/mule-2018.7.1-py2.7.egg/mule/__init__.pyc (version 2018.07.1)\n",
      "um_utils   : /nesi/nobackup/niwa00013/williamsjh/miniconda2/envs/master/lib/python2.7/site-packages/um_utils-2018.7.1-py2.7.egg/um_utils/__init__.pyc (version 2018.07.1)\n",
      "mo_pack    : /nesi/nobackup/niwa00013/williamsjh/miniconda2/envs/master/lib/python2.7/site-packages/mo_pack/__init__.pyc (version 0.2.0)\n",
      "\n",
      "bj476a.pm1985nov.pp\n",
      "%%%%%%%%%%%%%%%%%%%%%%%%%%%%%%%\n",
      "* (SELECT) Module Information *\n",
      "%%%%%%%%%%%%%%%%%%%%%%%%%%%%%%%\n",
      "mule       : /nesi/nobackup/niwa00013/williamsjh/miniconda2/envs/master/lib/python2.7/site-packages/mule-2018.7.1-py2.7.egg/mule/__init__.pyc (version 2018.07.1)\n",
      "um_utils   : /nesi/nobackup/niwa00013/williamsjh/miniconda2/envs/master/lib/python2.7/site-packages/um_utils-2018.7.1-py2.7.egg/um_utils/__init__.pyc (version 2018.07.1)\n",
      "mo_pack    : /nesi/nobackup/niwa00013/williamsjh/miniconda2/envs/master/lib/python2.7/site-packages/mo_pack/__init__.pyc (version 0.2.0)\n",
      "\n",
      "bj476a.pm1985oct.pp\n",
      "%%%%%%%%%%%%%%%%%%%%%%%%%%%%%%%\n",
      "* (SELECT) Module Information *\n",
      "%%%%%%%%%%%%%%%%%%%%%%%%%%%%%%%\n",
      "mule       : /nesi/nobackup/niwa00013/williamsjh/miniconda2/envs/master/lib/python2.7/site-packages/mule-2018.7.1-py2.7.egg/mule/__init__.pyc (version 2018.07.1)\n",
      "um_utils   : /nesi/nobackup/niwa00013/williamsjh/miniconda2/envs/master/lib/python2.7/site-packages/um_utils-2018.7.1-py2.7.egg/um_utils/__init__.pyc (version 2018.07.1)\n",
      "mo_pack    : /nesi/nobackup/niwa00013/williamsjh/miniconda2/envs/master/lib/python2.7/site-packages/mo_pack/__init__.pyc (version 0.2.0)\n",
      "\n",
      "bj476a.pm1985sep.pp\n",
      "%%%%%%%%%%%%%%%%%%%%%%%%%%%%%%%\n",
      "* (SELECT) Module Information *\n",
      "%%%%%%%%%%%%%%%%%%%%%%%%%%%%%%%\n",
      "mule       : /nesi/nobackup/niwa00013/williamsjh/miniconda2/envs/master/lib/python2.7/site-packages/mule-2018.7.1-py2.7.egg/mule/__init__.pyc (version 2018.07.1)\n",
      "um_utils   : /nesi/nobackup/niwa00013/williamsjh/miniconda2/envs/master/lib/python2.7/site-packages/um_utils-2018.7.1-py2.7.egg/um_utils/__init__.pyc (version 2018.07.1)\n",
      "mo_pack    : /nesi/nobackup/niwa00013/williamsjh/miniconda2/envs/master/lib/python2.7/site-packages/mo_pack/__init__.pyc (version 0.2.0)\n",
      "\n",
      "bj476a.pm1986apr.pp\n",
      "%%%%%%%%%%%%%%%%%%%%%%%%%%%%%%%\n",
      "* (SELECT) Module Information *\n",
      "%%%%%%%%%%%%%%%%%%%%%%%%%%%%%%%\n",
      "mule       : /nesi/nobackup/niwa00013/williamsjh/miniconda2/envs/master/lib/python2.7/site-packages/mule-2018.7.1-py2.7.egg/mule/__init__.pyc (version 2018.07.1)\n",
      "um_utils   : /nesi/nobackup/niwa00013/williamsjh/miniconda2/envs/master/lib/python2.7/site-packages/um_utils-2018.7.1-py2.7.egg/um_utils/__init__.pyc (version 2018.07.1)\n",
      "mo_pack    : /nesi/nobackup/niwa00013/williamsjh/miniconda2/envs/master/lib/python2.7/site-packages/mo_pack/__init__.pyc (version 0.2.0)\n",
      "\n",
      "bj476a.pm1986aug.pp\n",
      "%%%%%%%%%%%%%%%%%%%%%%%%%%%%%%%\n",
      "* (SELECT) Module Information *\n",
      "%%%%%%%%%%%%%%%%%%%%%%%%%%%%%%%\n",
      "mule       : /nesi/nobackup/niwa00013/williamsjh/miniconda2/envs/master/lib/python2.7/site-packages/mule-2018.7.1-py2.7.egg/mule/__init__.pyc (version 2018.07.1)\n",
      "um_utils   : /nesi/nobackup/niwa00013/williamsjh/miniconda2/envs/master/lib/python2.7/site-packages/um_utils-2018.7.1-py2.7.egg/um_utils/__init__.pyc (version 2018.07.1)\n",
      "mo_pack    : /nesi/nobackup/niwa00013/williamsjh/miniconda2/envs/master/lib/python2.7/site-packages/mo_pack/__init__.pyc (version 0.2.0)\n",
      "\n",
      "bj476a.pm1986feb.pp\n",
      "%%%%%%%%%%%%%%%%%%%%%%%%%%%%%%%\n",
      "* (SELECT) Module Information *\n",
      "%%%%%%%%%%%%%%%%%%%%%%%%%%%%%%%\n",
      "mule       : /nesi/nobackup/niwa00013/williamsjh/miniconda2/envs/master/lib/python2.7/site-packages/mule-2018.7.1-py2.7.egg/mule/__init__.pyc (version 2018.07.1)\n",
      "um_utils   : /nesi/nobackup/niwa00013/williamsjh/miniconda2/envs/master/lib/python2.7/site-packages/um_utils-2018.7.1-py2.7.egg/um_utils/__init__.pyc (version 2018.07.1)\n",
      "mo_pack    : /nesi/nobackup/niwa00013/williamsjh/miniconda2/envs/master/lib/python2.7/site-packages/mo_pack/__init__.pyc (version 0.2.0)\n",
      "\n",
      "bj476a.pm1986jan.pp\n",
      "%%%%%%%%%%%%%%%%%%%%%%%%%%%%%%%\n",
      "* (SELECT) Module Information *\n",
      "%%%%%%%%%%%%%%%%%%%%%%%%%%%%%%%\n",
      "mule       : /nesi/nobackup/niwa00013/williamsjh/miniconda2/envs/master/lib/python2.7/site-packages/mule-2018.7.1-py2.7.egg/mule/__init__.pyc (version 2018.07.1)\n",
      "um_utils   : /nesi/nobackup/niwa00013/williamsjh/miniconda2/envs/master/lib/python2.7/site-packages/um_utils-2018.7.1-py2.7.egg/um_utils/__init__.pyc (version 2018.07.1)\n",
      "mo_pack    : /nesi/nobackup/niwa00013/williamsjh/miniconda2/envs/master/lib/python2.7/site-packages/mo_pack/__init__.pyc (version 0.2.0)\n",
      "\n",
      "bj476a.pm1986jul.pp\n",
      "%%%%%%%%%%%%%%%%%%%%%%%%%%%%%%%\n",
      "* (SELECT) Module Information *\n",
      "%%%%%%%%%%%%%%%%%%%%%%%%%%%%%%%\n",
      "mule       : /nesi/nobackup/niwa00013/williamsjh/miniconda2/envs/master/lib/python2.7/site-packages/mule-2018.7.1-py2.7.egg/mule/__init__.pyc (version 2018.07.1)\n",
      "um_utils   : /nesi/nobackup/niwa00013/williamsjh/miniconda2/envs/master/lib/python2.7/site-packages/um_utils-2018.7.1-py2.7.egg/um_utils/__init__.pyc (version 2018.07.1)\n",
      "mo_pack    : /nesi/nobackup/niwa00013/williamsjh/miniconda2/envs/master/lib/python2.7/site-packages/mo_pack/__init__.pyc (version 0.2.0)\n",
      "\n",
      "bj476a.pm1986jun.pp\n",
      "%%%%%%%%%%%%%%%%%%%%%%%%%%%%%%%\n",
      "* (SELECT) Module Information *\n",
      "%%%%%%%%%%%%%%%%%%%%%%%%%%%%%%%\n",
      "mule       : /nesi/nobackup/niwa00013/williamsjh/miniconda2/envs/master/lib/python2.7/site-packages/mule-2018.7.1-py2.7.egg/mule/__init__.pyc (version 2018.07.1)\n",
      "um_utils   : /nesi/nobackup/niwa00013/williamsjh/miniconda2/envs/master/lib/python2.7/site-packages/um_utils-2018.7.1-py2.7.egg/um_utils/__init__.pyc (version 2018.07.1)\n",
      "mo_pack    : /nesi/nobackup/niwa00013/williamsjh/miniconda2/envs/master/lib/python2.7/site-packages/mo_pack/__init__.pyc (version 0.2.0)\n",
      "\n",
      "bj476a.pm1986mar.pp\n",
      "%%%%%%%%%%%%%%%%%%%%%%%%%%%%%%%\n",
      "* (SELECT) Module Information *\n",
      "%%%%%%%%%%%%%%%%%%%%%%%%%%%%%%%\n",
      "mule       : /nesi/nobackup/niwa00013/williamsjh/miniconda2/envs/master/lib/python2.7/site-packages/mule-2018.7.1-py2.7.egg/mule/__init__.pyc (version 2018.07.1)\n",
      "um_utils   : /nesi/nobackup/niwa00013/williamsjh/miniconda2/envs/master/lib/python2.7/site-packages/um_utils-2018.7.1-py2.7.egg/um_utils/__init__.pyc (version 2018.07.1)\n",
      "mo_pack    : /nesi/nobackup/niwa00013/williamsjh/miniconda2/envs/master/lib/python2.7/site-packages/mo_pack/__init__.pyc (version 0.2.0)\n",
      "\n",
      "bj476a.pm1986may.pp\n",
      "%%%%%%%%%%%%%%%%%%%%%%%%%%%%%%%\n",
      "* (SELECT) Module Information *\n",
      "%%%%%%%%%%%%%%%%%%%%%%%%%%%%%%%\n",
      "mule       : /nesi/nobackup/niwa00013/williamsjh/miniconda2/envs/master/lib/python2.7/site-packages/mule-2018.7.1-py2.7.egg/mule/__init__.pyc (version 2018.07.1)\n",
      "um_utils   : /nesi/nobackup/niwa00013/williamsjh/miniconda2/envs/master/lib/python2.7/site-packages/um_utils-2018.7.1-py2.7.egg/um_utils/__init__.pyc (version 2018.07.1)\n",
      "mo_pack    : /nesi/nobackup/niwa00013/williamsjh/miniconda2/envs/master/lib/python2.7/site-packages/mo_pack/__init__.pyc (version 0.2.0)\n",
      "\n",
      "bj476a.pm1986nov.pp\n",
      "%%%%%%%%%%%%%%%%%%%%%%%%%%%%%%%\n",
      "* (SELECT) Module Information *\n",
      "%%%%%%%%%%%%%%%%%%%%%%%%%%%%%%%\n",
      "mule       : /nesi/nobackup/niwa00013/williamsjh/miniconda2/envs/master/lib/python2.7/site-packages/mule-2018.7.1-py2.7.egg/mule/__init__.pyc (version 2018.07.1)\n",
      "um_utils   : /nesi/nobackup/niwa00013/williamsjh/miniconda2/envs/master/lib/python2.7/site-packages/um_utils-2018.7.1-py2.7.egg/um_utils/__init__.pyc (version 2018.07.1)\n",
      "mo_pack    : /nesi/nobackup/niwa00013/williamsjh/miniconda2/envs/master/lib/python2.7/site-packages/mo_pack/__init__.pyc (version 0.2.0)\n",
      "\n",
      "bj476a.pm1986oct.pp\n",
      "%%%%%%%%%%%%%%%%%%%%%%%%%%%%%%%\n",
      "* (SELECT) Module Information *\n",
      "%%%%%%%%%%%%%%%%%%%%%%%%%%%%%%%\n",
      "mule       : /nesi/nobackup/niwa00013/williamsjh/miniconda2/envs/master/lib/python2.7/site-packages/mule-2018.7.1-py2.7.egg/mule/__init__.pyc (version 2018.07.1)\n",
      "um_utils   : /nesi/nobackup/niwa00013/williamsjh/miniconda2/envs/master/lib/python2.7/site-packages/um_utils-2018.7.1-py2.7.egg/um_utils/__init__.pyc (version 2018.07.1)\n",
      "mo_pack    : /nesi/nobackup/niwa00013/williamsjh/miniconda2/envs/master/lib/python2.7/site-packages/mo_pack/__init__.pyc (version 0.2.0)\n",
      "\n",
      "bj476a.pm1986sep.pp\n",
      "%%%%%%%%%%%%%%%%%%%%%%%%%%%%%%%\n",
      "* (SELECT) Module Information *\n",
      "%%%%%%%%%%%%%%%%%%%%%%%%%%%%%%%\n",
      "mule       : /nesi/nobackup/niwa00013/williamsjh/miniconda2/envs/master/lib/python2.7/site-packages/mule-2018.7.1-py2.7.egg/mule/__init__.pyc (version 2018.07.1)\n",
      "um_utils   : /nesi/nobackup/niwa00013/williamsjh/miniconda2/envs/master/lib/python2.7/site-packages/um_utils-2018.7.1-py2.7.egg/um_utils/__init__.pyc (version 2018.07.1)\n",
      "mo_pack    : /nesi/nobackup/niwa00013/williamsjh/miniconda2/envs/master/lib/python2.7/site-packages/mo_pack/__init__.pyc (version 0.2.0)\n",
      "\n"
     ]
    }
   ],
   "source": [
    "%%bash \n",
    "for file in *a.pm198[5-6]*.pp ;\n",
    "do echo $file\n",
    "mule-select $file lbtim122and24022/$file --include lbtim=122,24022\n",
    "done"
   ]
  },
  {
   "cell_type": "code",
   "execution_count": 30,
   "metadata": {},
   "outputs": [
    {
     "name": "stdout",
     "output_type": "stream",
     "text": [
      "1985\n",
      "['*pm1985dec*.pp', '*pm1986jan*.pp', '*pm1986feb*.pp', '*pm1986mar*.pp', '*pm1986apr*.pp', '*pm1986may*.pp', '*pm1986jun*.pp', '*pm1986jul*.pp', '*pm1986aug*.pp', '*pm1986sep*.pp', '*pm1986oct*.pp', '*pm1986nov*.pp']\n",
      "now saving bj476a.py1986ann.pp\n"
     ]
    }
   ],
   "source": [
    "os.chdir(base+'lbtim122and24022/')\n",
    "\n",
    "for i in range(35,36,1):\n",
    "    year0 = 1950\n",
    "    year = year0 + i\n",
    "    print year\n",
    "    foo = iris.cube.CubeList()\n",
    "    files=list(braceexpand('*pm'+'{'+str(year0+i)+'dec'+','+str(year0+i+1)+\n",
    "                           '{jan,feb,mar,apr,may,jun,jul,aug,sep,oct,nov}}*.pp'))\n",
    "    cubes = iris.load(files)\n",
    "    print files                           \n",
    "    for cube in cubes:\n",
    "        newcube = cube.collapsed('time', iris.analysis.MEAN)\n",
    "        newcube.cell_methods = (iris.coords.CellMethod('mean', 'time', intervals='1 hour'),)\n",
    "        foo.append(newcube)\n",
    "        outfile = suite[2:]+'a.py'+str(year0+i+1)+'ann.pp'\n",
    "    \n",
    "    print 'now saving '+outfile\n",
    "    iris.save(foo, base+'/climate-meaning/lbtim122and24022/'+outfile)\n",
    "        \n",
    "        "
   ]
  },
  {
   "cell_type": "code",
   "execution_count": 31,
   "metadata": {},
   "outputs": [],
   "source": [
    "os.chdir(base+'/climate-meaning/lbtim122and24022/')\n",
    "         \n"
   ]
  },
  {
   "cell_type": "code",
   "execution_count": 32,
   "metadata": {},
   "outputs": [
    {
     "data": {
      "text/plain": [
       "u'/scale_wlg_nobackup/filesets/nobackup/niwa00013/williamsjh/cylc-run/u-bj476/share/data/History_Data/climate-meaning/lbtim122and24022'"
      ]
     },
     "execution_count": 32,
     "metadata": {},
     "output_type": "execute_result"
    }
   ],
   "source": [
    "pwd"
   ]
  },
  {
   "cell_type": "code",
   "execution_count": 33,
   "metadata": {},
   "outputs": [],
   "source": [
    "import glob"
   ]
  },
  {
   "cell_type": "code",
   "execution_count": 34,
   "metadata": {},
   "outputs": [],
   "source": [
    "import mule.pp as pp"
   ]
  },
  {
   "cell_type": "code",
   "execution_count": 35,
   "metadata": {},
   "outputs": [],
   "source": [
    "for file in sorted(glob.glob('*.pp')):\n",
    "\n",
    "    fields=pp.fields_from_pp_file(file)\n",
    "\n",
    "    for i in range(len(fields)):\n",
    "        if str(fields[i].lbuser4).startswith('19') and len(str(fields[i].lbuser4)) == 5:\n",
    "            #print fields[i].lbuser4\n",
    "            #print 'setting lbtim in STASH code '+str(fields[i].lbuser4)+' to 24022'\n",
    "            fields[i].lbtim = 24022\n",
    "            \n",
    "    pp.fields_to_pp_file('new-'+file,fields)\n"
   ]
  },
  {
   "cell_type": "code",
   "execution_count": 36,
   "metadata": {},
   "outputs": [],
   "source": [
    "%%bash\n",
    "rename new-bj bj new-bj*"
   ]
  },
  {
   "cell_type": "code",
   "execution_count": null,
   "metadata": {},
   "outputs": [],
   "source": []
  },
  {
   "cell_type": "code",
   "execution_count": null,
   "metadata": {},
   "outputs": [],
   "source": []
  },
  {
   "cell_type": "code",
   "execution_count": null,
   "metadata": {},
   "outputs": [],
   "source": []
  }
 ],
 "metadata": {
  "kernelspec": {
   "display_name": "Python 2",
   "language": "python",
   "name": "python2"
  },
  "language_info": {
   "codemirror_mode": {
    "name": "ipython",
    "version": 2
   },
   "file_extension": ".py",
   "mimetype": "text/x-python",
   "name": "python",
   "nbconvert_exporter": "python",
   "pygments_lexer": "ipython2",
   "version": "2.7.15"
  }
 },
 "nbformat": 4,
 "nbformat_minor": 2
}
